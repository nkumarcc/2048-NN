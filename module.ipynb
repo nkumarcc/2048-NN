{
  "cells": [
    {
      "cell_type": "markdown",
      "metadata": {
        "colab_type": "text",
        "id": "view-in-github"
      },
      "source": [
        "[View in Colaboratory](https://colab.research.google.com/github/tjwei/2048-NN/blob/master/module.ipynb)"
      ]
    },
    {
      "cell_type": "code",
      "execution_count": 1,
      "metadata": {
        "colab": {
          "base_uri": "https://localhost:8080/",
          "height": 411
        },
        "colab_type": "code",
        "id": "HYqhmmMgJzmQ",
        "outputId": "783e5590-7d6e-4c28-ff8b-8bdb33d5a5f0"
      },
      "outputs": [
        {
          "data": {
            "text/plain": [
              "['In',\n",
              " 'Out',\n",
              " '_',\n",
              " '__',\n",
              " '___',\n",
              " '__builtin__',\n",
              " '__builtins__',\n",
              " '__doc__',\n",
              " '__loader__',\n",
              " '__name__',\n",
              " '__package__',\n",
              " '__spec__',\n",
              " '_dh',\n",
              " '_i',\n",
              " '_i1',\n",
              " '_ih',\n",
              " '_ii',\n",
              " '_iii',\n",
              " '_oh',\n",
              " '_sh',\n",
              " 'exit',\n",
              " 'get_ipython',\n",
              " 'quit']"
            ]
          },
          "execution_count": 1,
          "metadata": {
            "tags": []
          },
          "output_type": "execute_result"
        }
      ],
      "source": [
        "dir()"
      ]
    },
    {
      "cell_type": "code",
      "execution_count": 3,
      "metadata": {
        "colab": {
          "base_uri": "https://localhost:8080/",
          "height": 2640
        },
        "colab_type": "code",
        "id": "C8xC0K9KKZfP",
        "outputId": "3d6cf7ea-1184-4dbb-bddc-de7966841690"
      },
      "outputs": [
        {
          "data": {
            "text/plain": [
              "['ArithmeticError',\n",
              " 'AssertionError',\n",
              " 'AttributeError',\n",
              " 'BaseException',\n",
              " 'BlockingIOError',\n",
              " 'BrokenPipeError',\n",
              " 'BufferError',\n",
              " 'BytesWarning',\n",
              " 'ChildProcessError',\n",
              " 'ConnectionAbortedError',\n",
              " 'ConnectionError',\n",
              " 'ConnectionRefusedError',\n",
              " 'ConnectionResetError',\n",
              " 'DeprecationWarning',\n",
              " 'EOFError',\n",
              " 'Ellipsis',\n",
              " 'EnvironmentError',\n",
              " 'Exception',\n",
              " 'False',\n",
              " 'FileExistsError',\n",
              " 'FileNotFoundError',\n",
              " 'FloatingPointError',\n",
              " 'FutureWarning',\n",
              " 'GeneratorExit',\n",
              " 'IOError',\n",
              " 'ImportError',\n",
              " 'ImportWarning',\n",
              " 'IndentationError',\n",
              " 'IndexError',\n",
              " 'InterruptedError',\n",
              " 'IsADirectoryError',\n",
              " 'KeyError',\n",
              " 'KeyboardInterrupt',\n",
              " 'LookupError',\n",
              " 'MemoryError',\n",
              " 'ModuleNotFoundError',\n",
              " 'NameError',\n",
              " 'None',\n",
              " 'NotADirectoryError',\n",
              " 'NotImplemented',\n",
              " 'NotImplementedError',\n",
              " 'OSError',\n",
              " 'OverflowError',\n",
              " 'PendingDeprecationWarning',\n",
              " 'PermissionError',\n",
              " 'ProcessLookupError',\n",
              " 'RecursionError',\n",
              " 'ReferenceError',\n",
              " 'ResourceWarning',\n",
              " 'RuntimeError',\n",
              " 'RuntimeWarning',\n",
              " 'StopAsyncIteration',\n",
              " 'StopIteration',\n",
              " 'SyntaxError',\n",
              " 'SyntaxWarning',\n",
              " 'SystemError',\n",
              " 'SystemExit',\n",
              " 'TabError',\n",
              " 'TimeoutError',\n",
              " 'True',\n",
              " 'TypeError',\n",
              " 'UnboundLocalError',\n",
              " 'UnicodeDecodeError',\n",
              " 'UnicodeEncodeError',\n",
              " 'UnicodeError',\n",
              " 'UnicodeTranslateError',\n",
              " 'UnicodeWarning',\n",
              " 'UserWarning',\n",
              " 'ValueError',\n",
              " 'Warning',\n",
              " 'ZeroDivisionError',\n",
              " '__IPYTHON__',\n",
              " '__build_class__',\n",
              " '__debug__',\n",
              " '__doc__',\n",
              " '__import__',\n",
              " '__loader__',\n",
              " '__name__',\n",
              " '__package__',\n",
              " '__spec__',\n",
              " 'abs',\n",
              " 'all',\n",
              " 'any',\n",
              " 'ascii',\n",
              " 'bin',\n",
              " 'bool',\n",
              " 'bytearray',\n",
              " 'bytes',\n",
              " 'callable',\n",
              " 'chr',\n",
              " 'classmethod',\n",
              " 'compile',\n",
              " 'complex',\n",
              " 'copyright',\n",
              " 'credits',\n",
              " 'delattr',\n",
              " 'dict',\n",
              " 'dir',\n",
              " 'display',\n",
              " 'divmod',\n",
              " 'dreload',\n",
              " 'enumerate',\n",
              " 'eval',\n",
              " 'exec',\n",
              " 'filter',\n",
              " 'float',\n",
              " 'format',\n",
              " 'frozenset',\n",
              " 'get_ipython',\n",
              " 'getattr',\n",
              " 'globals',\n",
              " 'hasattr',\n",
              " 'hash',\n",
              " 'help',\n",
              " 'hex',\n",
              " 'id',\n",
              " 'input',\n",
              " 'int',\n",
              " 'isinstance',\n",
              " 'issubclass',\n",
              " 'iter',\n",
              " 'len',\n",
              " 'license',\n",
              " 'list',\n",
              " 'locals',\n",
              " 'map',\n",
              " 'max',\n",
              " 'memoryview',\n",
              " 'min',\n",
              " 'next',\n",
              " 'object',\n",
              " 'oct',\n",
              " 'open',\n",
              " 'ord',\n",
              " 'pow',\n",
              " 'print',\n",
              " 'property',\n",
              " 'range',\n",
              " 'repr',\n",
              " 'reversed',\n",
              " 'round',\n",
              " 'set',\n",
              " 'setattr',\n",
              " 'slice',\n",
              " 'sorted',\n",
              " 'staticmethod',\n",
              " 'str',\n",
              " 'sum',\n",
              " 'super',\n",
              " 'tuple',\n",
              " 'type',\n",
              " 'vars',\n",
              " 'zip']"
            ]
          },
          "execution_count": 3,
          "metadata": {
            "tags": []
          },
          "output_type": "execute_result"
        }
      ],
      "source": [
        "dir(__builtin__)"
      ]
    },
    {
      "cell_type": "code",
      "execution_count": null,
      "metadata": {
        "colab": {},
        "colab_type": "code",
        "id": "xSH8Xg8zK6He"
      },
      "outputs": [],
      "source": [
        "import math"
      ]
    },
    {
      "cell_type": "code",
      "execution_count": 5,
      "metadata": {
        "colab": {
          "base_uri": "https://localhost:8080/",
          "height": 34
        },
        "colab_type": "code",
        "id": "u16EA4cvK94-",
        "outputId": "57cb6099-5838-4bdd-ef5e-c914b88f59ef"
      },
      "outputs": [
        {
          "data": {
            "text/plain": [
              "3.141592653589793"
            ]
          },
          "execution_count": 5,
          "metadata": {
            "tags": []
          },
          "output_type": "execute_result"
        }
      ],
      "source": [
        "math.pi"
      ]
    },
    {
      "cell_type": "code",
      "execution_count": 6,
      "metadata": {
        "colab": {
          "base_uri": "https://localhost:8080/",
          "height": 34
        },
        "colab_type": "code",
        "id": "73v3HmdALEvO",
        "outputId": "d52baac9-a1e9-4efd-bf7a-c64fe9ac2489"
      },
      "outputs": [
        {
          "data": {
            "text/plain": [
              "2.718281828459045"
            ]
          },
          "execution_count": 6,
          "metadata": {
            "tags": []
          },
          "output_type": "execute_result"
        }
      ],
      "source": [
        "math.e"
      ]
    },
    {
      "cell_type": "code",
      "execution_count": 10,
      "metadata": {
        "colab": {
          "base_uri": "https://localhost:8080/",
          "height": 34
        },
        "colab_type": "code",
        "id": "nTlP3dYgLE8O",
        "outputId": "cb808efe-ab2b-4883-9592-fe6be4d2e447"
      },
      "outputs": [
        {
          "data": {
            "text/plain": [
              "2.7181459268249255"
            ]
          },
          "execution_count": 10,
          "metadata": {
            "tags": []
          },
          "output_type": "execute_result"
        }
      ],
      "source": [
        "(1+1/10000)**10000"
      ]
    },
    {
      "cell_type": "code",
      "execution_count": 12,
      "metadata": {
        "colab": {
          "base_uri": "https://localhost:8080/",
          "height": 34
        },
        "colab_type": "code",
        "id": "rM1M15-yLUXW",
        "outputId": "0de3e067-34a9-43af-f384-f3a8d5fd843f"
      },
      "outputs": [
        {
          "data": {
            "text/plain": [
              "6.283185307179586"
            ]
          },
          "execution_count": 12,
          "metadata": {
            "tags": []
          },
          "output_type": "execute_result"
        }
      ],
      "source": [
        "math.tau"
      ]
    },
    {
      "cell_type": "code",
      "execution_count": 13,
      "metadata": {
        "colab": {
          "base_uri": "https://localhost:8080/",
          "height": 34
        },
        "colab_type": "code",
        "id": "rzeIPXpULfh-",
        "outputId": "fb01234a-e078-4980-f131-c4e585bec4ea"
      },
      "outputs": [
        {
          "data": {
            "text/plain": [
              "0.8660254037844386"
            ]
          },
          "execution_count": 13,
          "metadata": {
            "tags": []
          },
          "output_type": "execute_result"
        }
      ],
      "source": [
        "math.sin(math.pi/3)"
      ]
    },
    {
      "cell_type": "code",
      "execution_count": 15,
      "metadata": {
        "colab": {
          "base_uri": "https://localhost:8080/",
          "height": 34
        },
        "colab_type": "code",
        "id": "PY-m-rjILoxu",
        "outputId": "27f0be32-be7c-40c6-c17d-2d741bf6e308"
      },
      "outputs": [
        {
          "data": {
            "text/plain": [
              "0.4999999999999999"
            ]
          },
          "execution_count": 15,
          "metadata": {
            "tags": []
          },
          "output_type": "execute_result"
        }
      ],
      "source": [
        "math.sin(math.pi/4)**2"
      ]
    },
    {
      "cell_type": "code",
      "execution_count": 16,
      "metadata": {
        "colab": {
          "base_uri": "https://localhost:8080/",
          "height": 34
        },
        "colab_type": "code",
        "id": "vkzag_wNLux2",
        "outputId": "ec77ee3d-8e71-435f-d72f-77abfc1db442"
      },
      "outputs": [
        {
          "data": {
            "text/plain": [
              "2.23606797749979"
            ]
          },
          "execution_count": 16,
          "metadata": {
            "tags": []
          },
          "output_type": "execute_result"
        }
      ],
      "source": [
        "math.sqrt(5)"
      ]
    },
    {
      "cell_type": "code",
      "execution_count": 17,
      "metadata": {
        "colab": {
          "base_uri": "https://localhost:8080/",
          "height": 34
        },
        "colab_type": "code",
        "id": "fPLaZe-NLy2G",
        "outputId": "28b9ec4c-af99-4472-f7ca-4716bf02b304"
      },
      "outputs": [
        {
          "data": {
            "text/plain": [
              "5.000000000000001"
            ]
          },
          "execution_count": 17,
          "metadata": {
            "tags": []
          },
          "output_type": "execute_result"
        }
      ],
      "source": [
        "math.sqrt(5)**2"
      ]
    },
    {
      "cell_type": "code",
      "execution_count": 20,
      "metadata": {
        "colab": {
          "base_uri": "https://localhost:8080/",
          "height": 943
        },
        "colab_type": "code",
        "id": "CGn8ExZnL2Q-",
        "outputId": "23b85bc4-6e53-4417-c74a-c0d21785c337"
      },
      "outputs": [
        {
          "data": {
            "text/plain": [
              "['__doc__',\n",
              " '__loader__',\n",
              " '__name__',\n",
              " '__package__',\n",
              " '__spec__',\n",
              " 'acos',\n",
              " 'acosh',\n",
              " 'asin',\n",
              " 'asinh',\n",
              " 'atan',\n",
              " 'atan2',\n",
              " 'atanh',\n",
              " 'ceil',\n",
              " 'copysign',\n",
              " 'cos',\n",
              " 'cosh',\n",
              " 'degrees',\n",
              " 'e',\n",
              " 'erf',\n",
              " 'erfc',\n",
              " 'exp',\n",
              " 'expm1',\n",
              " 'fabs',\n",
              " 'factorial',\n",
              " 'floor',\n",
              " 'fmod',\n",
              " 'frexp',\n",
              " 'fsum',\n",
              " 'gamma',\n",
              " 'gcd',\n",
              " 'hypot',\n",
              " 'inf',\n",
              " 'isclose',\n",
              " 'isfinite',\n",
              " 'isinf',\n",
              " 'isnan',\n",
              " 'ldexp',\n",
              " 'lgamma',\n",
              " 'log',\n",
              " 'log10',\n",
              " 'log1p',\n",
              " 'log2',\n",
              " 'modf',\n",
              " 'nan',\n",
              " 'pi',\n",
              " 'pow',\n",
              " 'radians',\n",
              " 'sin',\n",
              " 'sinh',\n",
              " 'sqrt',\n",
              " 'tan',\n",
              " 'tanh',\n",
              " 'tau',\n",
              " 'trunc']"
            ]
          },
          "execution_count": 20,
          "metadata": {
            "tags": []
          },
          "output_type": "execute_result"
        }
      ],
      "source": [
        "dir(math)"
      ]
    },
    {
      "cell_type": "code",
      "execution_count": 21,
      "metadata": {
        "colab": {
          "base_uri": "https://localhost:8080/",
          "height": 34
        },
        "colab_type": "code",
        "id": "ibxeA1A8MIdW",
        "outputId": "7f7943c0-7170-435b-f29b-bc812a0b24d4"
      },
      "outputs": [
        {
          "data": {
            "text/plain": [
              "1"
            ]
          },
          "execution_count": 21,
          "metadata": {
            "tags": []
          },
          "output_type": "execute_result"
        }
      ],
      "source": [
        "math.gcd(5,3)"
      ]
    },
    {
      "cell_type": "code",
      "execution_count": 22,
      "metadata": {
        "colab": {
          "base_uri": "https://localhost:8080/",
          "height": 34
        },
        "colab_type": "code",
        "id": "_P13shLHMLKO",
        "outputId": "7313154f-9963-4a46-baa5-cb6885852d78"
      },
      "outputs": [
        {
          "data": {
            "text/plain": [
              "10"
            ]
          },
          "execution_count": 22,
          "metadata": {
            "tags": []
          },
          "output_type": "execute_result"
        }
      ],
      "source": [
        "math.gcd(20,30)"
      ]
    },
    {
      "cell_type": "code",
      "execution_count": 23,
      "metadata": {
        "colab": {
          "base_uri": "https://localhost:8080/",
          "height": 34
        },
        "colab_type": "code",
        "id": "dAiFiS3fMOiw",
        "outputId": "47e4ee96-8993-4dbe-aacb-7c709ab221a7"
      },
      "outputs": [
        {
          "data": {
            "text/plain": [
              "10"
            ]
          },
          "execution_count": 23,
          "metadata": {
            "tags": []
          },
          "output_type": "execute_result"
        }
      ],
      "source": [
        "math.gcd(-20,-30)"
      ]
    },
    {
      "cell_type": "code",
      "execution_count": 25,
      "metadata": {
        "colab": {
          "base_uri": "https://localhost:8080/",
          "height": 34
        },
        "colab_type": "code",
        "id": "--k3jaFiMRF_",
        "outputId": "eb25fe83-cce7-47f0-848b-9b3b4cc17ad1"
      },
      "outputs": [
        {
          "data": {
            "text/plain": [
              "2"
            ]
          },
          "execution_count": 25,
          "metadata": {
            "tags": []
          },
          "output_type": "execute_result"
        }
      ],
      "source": [
        "5%3"
      ]
    },
    {
      "cell_type": "code",
      "execution_count": 26,
      "metadata": {
        "colab": {
          "base_uri": "https://localhost:8080/",
          "height": 34
        },
        "colab_type": "code",
        "id": "NXHhlRb5MUv3",
        "outputId": "a66b93d2-0766-417d-bf6b-dcab46d3d07d"
      },
      "outputs": [
        {
          "data": {
            "text/plain": [
              "1"
            ]
          },
          "execution_count": 26,
          "metadata": {
            "tags": []
          },
          "output_type": "execute_result"
        }
      ],
      "source": [
        "(-5)%3"
      ]
    },
    {
      "cell_type": "code",
      "execution_count": 27,
      "metadata": {
        "colab": {
          "base_uri": "https://localhost:8080/",
          "height": 34
        },
        "colab_type": "code",
        "id": "VxLSzWdFMYWG",
        "outputId": "21775e85-c3b3-43bc-b474-b2c951c3ad6e"
      },
      "outputs": [
        {
          "data": {
            "text/plain": [
              "0.8660254037844386"
            ]
          },
          "execution_count": 27,
          "metadata": {
            "tags": []
          },
          "output_type": "execute_result"
        }
      ],
      "source": [
        "math.sin(math.pi/3)"
      ]
    },
    {
      "cell_type": "code",
      "execution_count": 28,
      "metadata": {
        "colab": {
          "base_uri": "https://localhost:8080/",
          "height": 34
        },
        "colab_type": "code",
        "id": "Uhzp2kmaMhpA",
        "outputId": "7b97ec49-c2dc-4982-fe2c-bcc0af61aae8"
      },
      "outputs": [
        {
          "data": {
            "text/plain": [
              "0.8660254037844386"
            ]
          },
          "execution_count": 28,
          "metadata": {
            "tags": []
          },
          "output_type": "execute_result"
        }
      ],
      "source": [
        "sin = math.sin\n",
        "pi = math.pi\n",
        "sin(pi/3)"
      ]
    },
    {
      "cell_type": "code",
      "execution_count": null,
      "metadata": {
        "colab": {},
        "colab_type": "code",
        "id": "M9uebBlOMode"
      },
      "outputs": [],
      "source": [
        "from math import *"
      ]
    },
    {
      "cell_type": "code",
      "execution_count": 32,
      "metadata": {
        "colab": {
          "base_uri": "https://localhost:8080/",
          "height": 34
        },
        "colab_type": "code",
        "id": "o0tfmCwOMudO",
        "outputId": "0974e432-5b62-4b5a-e985-abb15c7b66f6"
      },
      "outputs": [
        {
          "data": {
            "text/plain": [
              "1.0"
            ]
          },
          "execution_count": 32,
          "metadata": {
            "tags": []
          },
          "output_type": "execute_result"
        }
      ],
      "source": [
        "cos(tau)"
      ]
    },
    {
      "cell_type": "code",
      "execution_count": 39,
      "metadata": {
        "colab": {
          "base_uri": "https://localhost:8080/",
          "height": 3120
        },
        "colab_type": "code",
        "id": "3i6BpoYgM2LP",
        "outputId": "ef77a4cd-09e2-4cd4-95b3-1e60e969cdd9"
      },
      "outputs": [
        {
          "name": "stdout",
          "output_type": "stream",
          "text": [
            "cos(0°) = 1.0\n",
            "cos(1°) = 0.9998476951563913\n",
            "cos(2°) = 0.9993908270190958\n",
            "cos(3°) = 0.9986295347545738\n",
            "cos(4°) = 0.9975640502598242\n",
            "cos(5°) = 0.9961946980917455\n",
            "cos(6°) = 0.9945218953682733\n",
            "cos(7°) = 0.992546151641322\n",
            "cos(8°) = 0.9902680687415704\n",
            "cos(9°) = 0.9876883405951378\n",
            "cos(10°) = 0.984807753012208\n",
            "cos(11°) = 0.981627183447664\n",
            "cos(12°) = 0.9781476007338057\n",
            "cos(13°) = 0.9743700647852352\n",
            "cos(14°) = 0.9702957262759965\n",
            "cos(15°) = 0.9659258262890683\n",
            "cos(16°) = 0.9612616959383189\n",
            "cos(17°) = 0.9563047559630354\n",
            "cos(18°) = 0.9510565162951535\n",
            "cos(19°) = 0.9455185755993168\n",
            "cos(20°) = 0.9396926207859084\n",
            "cos(21°) = 0.9335804264972017\n",
            "cos(22°) = 0.9271838545667874\n",
            "cos(23°) = 0.9205048534524404\n",
            "cos(24°) = 0.9135454576426009\n",
            "cos(25°) = 0.9063077870366499\n",
            "cos(26°) = 0.898794046299167\n",
            "cos(27°) = 0.8910065241883679\n",
            "cos(28°) = 0.882947592858927\n",
            "cos(29°) = 0.8746197071393957\n",
            "cos(30°) = 0.8660254037844387\n",
            "cos(31°) = 0.8571673007021123\n",
            "cos(32°) = 0.848048096156426\n",
            "cos(33°) = 0.838670567945424\n",
            "cos(34°) = 0.8290375725550416\n",
            "cos(35°) = 0.8191520442889918\n",
            "cos(36°) = 0.8090169943749475\n",
            "cos(37°) = 0.7986355100472928\n",
            "cos(38°) = 0.788010753606722\n",
            "cos(39°) = 0.7771459614569709\n",
            "cos(40°) = 0.766044443118978\n",
            "cos(41°) = 0.7547095802227721\n",
            "cos(42°) = 0.7431448254773942\n",
            "cos(43°) = 0.7313537016191706\n",
            "cos(44°) = 0.7193398003386512\n",
            "cos(45°) = 0.7071067811865476\n",
            "cos(46°) = 0.6946583704589974\n",
            "cos(47°) = 0.6819983600624985\n",
            "cos(48°) = 0.6691306063588582\n",
            "cos(49°) = 0.6560590289905073\n",
            "cos(50°) = 0.6427876096865394\n",
            "cos(51°) = 0.6293203910498375\n",
            "cos(52°) = 0.6156614753256583\n",
            "cos(53°) = 0.6018150231520484\n",
            "cos(54°) = 0.5877852522924731\n",
            "cos(55°) = 0.5735764363510462\n",
            "cos(56°) = 0.5591929034707468\n",
            "cos(57°) = 0.5446390350150272\n",
            "cos(58°) = 0.5299192642332049\n",
            "cos(59°) = 0.5150380749100544\n",
            "cos(60°) = 0.5000000000000001\n",
            "cos(61°) = 0.4848096202463371\n",
            "cos(62°) = 0.46947156278589086\n",
            "cos(63°) = 0.4539904997395468\n",
            "cos(64°) = 0.43837114678907746\n",
            "cos(65°) = 0.42261826174069944\n",
            "cos(66°) = 0.4067366430758002\n",
            "cos(67°) = 0.39073112848927394\n",
            "cos(68°) = 0.37460659341591196\n",
            "cos(69°) = 0.3583679495453004\n",
            "cos(70°) = 0.3420201433256688\n",
            "cos(71°) = 0.32556815445715676\n",
            "cos(72°) = 0.30901699437494745\n",
            "cos(73°) = 0.29237170472273677\n",
            "cos(74°) = 0.27563735581699916\n",
            "cos(75°) = 0.25881904510252074\n",
            "cos(76°) = 0.2419218955996679\n",
            "cos(77°) = 0.22495105434386492\n",
            "cos(78°) = 0.20791169081775945\n",
            "cos(79°) = 0.19080899537654492\n",
            "cos(80°) = 0.17364817766693041\n",
            "cos(81°) = 0.15643446504023092\n",
            "cos(82°) = 0.1391731009600657\n",
            "cos(83°) = 0.12186934340514749\n",
            "cos(84°) = 0.10452846326765346\n",
            "cos(85°) = 0.08715574274765814\n",
            "cos(86°) = 0.06975647374412546\n",
            "cos(87°) = 0.052335956242943966\n",
            "cos(88°) = 0.03489949670250108\n",
            "cos(89°) = 0.017452406437283376\n",
            "cos(90°) = 6.123233995736766e-17\n",
            "cos(91°) = -0.017452406437283477\n",
            "cos(92°) = -0.03489949670250073\n",
            "cos(93°) = -0.05233595624294362\n",
            "cos(94°) = -0.06975647374412533\n",
            "cos(95°) = -0.08715574274765824\n",
            "cos(96°) = -0.10452846326765333\n",
            "cos(97°) = -0.12186934340514737\n",
            "cos(98°) = -0.13917310096006535\n",
            "cos(99°) = -0.15643446504023104\n",
            "cos(100°) = -0.1736481776669303\n",
            "cos(101°) = -0.1908089953765448\n",
            "cos(102°) = -0.20791169081775912\n",
            "cos(103°) = -0.2249510543438648\n",
            "cos(104°) = -0.24192189559966779\n",
            "cos(105°) = -0.25881904510252085\n",
            "cos(106°) = -0.27563735581699905\n",
            "cos(107°) = -0.29237170472273666\n",
            "cos(108°) = -0.30901699437494734\n",
            "cos(109°) = -0.3255681544571564\n",
            "cos(110°) = -0.3420201433256687\n",
            "cos(111°) = -0.35836794954530027\n",
            "cos(112°) = -0.37460659341591207\n",
            "cos(113°) = -0.3907311284892736\n",
            "cos(114°) = -0.40673664307580004\n",
            "cos(115°) = -0.42261826174069933\n",
            "cos(116°) = -0.4383711467890775\n",
            "cos(117°) = -0.4539904997395467\n",
            "cos(118°) = -0.46947156278589053\n",
            "cos(119°) = -0.484809620246337\n",
            "cos(120°) = -0.4999999999999998\n",
            "cos(121°) = -0.5150380749100543\n",
            "cos(122°) = -0.5299192642332048\n",
            "cos(123°) = -0.5446390350150271\n",
            "cos(124°) = -0.5591929034707467\n",
            "cos(125°) = -0.5735764363510458\n",
            "cos(126°) = -0.587785252292473\n",
            "cos(127°) = -0.6018150231520484\n",
            "cos(128°) = -0.6156614753256583\n",
            "cos(129°) = -0.6293203910498373\n",
            "cos(130°) = -0.6427876096865394\n",
            "cos(131°) = -0.6560590289905075\n",
            "cos(132°) = -0.6691306063588582\n",
            "cos(133°) = -0.6819983600624984\n",
            "cos(134°) = -0.694658370458997\n",
            "cos(135°) = -0.7071067811865475\n",
            "cos(136°) = -0.7193398003386512\n",
            "cos(137°) = -0.7313537016191705\n",
            "cos(138°) = -0.743144825477394\n",
            "cos(139°) = -0.754709580222772\n",
            "cos(140°) = -0.7660444431189779\n",
            "cos(141°) = -0.7771459614569707\n",
            "cos(142°) = -0.7880107536067219\n",
            "cos(143°) = -0.7986355100472929\n",
            "cos(144°) = -0.8090169943749473\n",
            "cos(145°) = -0.8191520442889916\n",
            "cos(146°) = -0.8290375725550416\n",
            "cos(147°) = -0.8386705679454242\n",
            "cos(148°) = -0.848048096156426\n",
            "cos(149°) = -0.8571673007021122\n",
            "cos(150°) = -0.8660254037844387\n",
            "cos(151°) = -0.8746197071393957\n",
            "cos(152°) = -0.8829475928589268\n",
            "cos(153°) = -0.8910065241883678\n",
            "cos(154°) = -0.898794046299167\n",
            "cos(155°) = -0.9063077870366499\n",
            "cos(156°) = -0.9135454576426008\n",
            "cos(157°) = -0.9205048534524402\n",
            "cos(158°) = -0.9271838545667873\n",
            "cos(159°) = -0.9335804264972017\n",
            "cos(160°) = -0.9396926207859083\n",
            "cos(161°) = -0.9455185755993167\n",
            "cos(162°) = -0.9510565162951535\n",
            "cos(163°) = -0.9563047559630354\n",
            "cos(164°) = -0.9612616959383187\n",
            "cos(165°) = -0.9659258262890682\n",
            "cos(166°) = -0.9702957262759965\n",
            "cos(167°) = -0.9743700647852352\n",
            "cos(168°) = -0.9781476007338057\n",
            "cos(169°) = -0.981627183447664\n",
            "cos(170°) = -0.984807753012208\n",
            "cos(171°) = -0.9876883405951377\n",
            "cos(172°) = -0.9902680687415703\n",
            "cos(173°) = -0.992546151641322\n",
            "cos(174°) = -0.9945218953682733\n",
            "cos(175°) = -0.9961946980917455\n",
            "cos(176°) = -0.9975640502598242\n",
            "cos(177°) = -0.9986295347545738\n",
            "cos(178°) = -0.9993908270190958\n",
            "cos(179°) = -0.9998476951563913\n",
            "cos(180°) = -1.0\n"
          ]
        }
      ],
      "source": [
        "for i in range(0, 181):\n",
        "  print(\"cos({}°) = {}\".format(i, cos(pi*i/180)))"
      ]
    },
    {
      "cell_type": "code",
      "execution_count": null,
      "metadata": {
        "colab": {},
        "colab_type": "code",
        "id": "t1o9oG-3O2Ql"
      },
      "outputs": [],
      "source": [
        "degrees?"
      ]
    },
    {
      "cell_type": "code",
      "execution_count": null,
      "metadata": {
        "colab": {},
        "colab_type": "code",
        "id": "LbYqwfRtO8Fu"
      },
      "outputs": [],
      "source": [
        "radians?"
      ]
    },
    {
      "cell_type": "code",
      "execution_count": null,
      "metadata": {
        "colab": {},
        "colab_type": "code",
        "id": "ZVrDhedBPI8F"
      },
      "outputs": [],
      "source": [
        "for i in range(0, 181):\n",
        "  print(\"cos({}°) = {}\".format(i, cos(radians(i))))"
      ]
    },
    {
      "cell_type": "code",
      "execution_count": 45,
      "metadata": {
        "colab": {
          "base_uri": "https://localhost:8080/",
          "height": 377
        },
        "colab_type": "code",
        "id": "N7dEzPSMPWKA",
        "outputId": "3fa04c5d-d0c6-40ae-f09f-99d6f413691d"
      },
      "outputs": [
        {
          "name": "stdout",
          "output_type": "stream",
          "text": [
            "cos(0°) = 1.0\n",
            "cos(1°) = 0.9998476951563913\n",
            "cos(2°) = 0.9993908270190958\n",
            "cos(3°) = 0.9986295347545738\n",
            "cos(4°) = 0.9975640502598242\n",
            "cos(5°) = 0.9961946980917455\n",
            "cos(6°) = 0.9945218953682733\n",
            "cos(7°) = 0.992546151641322\n",
            "cos(8°) = 0.9902680687415704\n",
            "cos(9°) = 0.9876883405951378\n",
            "cos(10°) = 0.984807753012208\n",
            "cos(11°) = 0.981627183447664\n",
            "cos(12°) = 0.9781476007338057\n",
            "cos(13°) = 0.9743700647852352\n",
            "cos(14°) = 0.9702957262759965\n",
            "cos(15°) = 0.9659258262890683\n",
            "cos(16°) = 0.9612616959383189\n",
            "cos(17°) = 0.9563047559630354\n",
            "cos(18°) = 0.9510565162951535\n",
            "cos(19°) = 0.9455185755993168\n",
            "cos(20°) = 0.9396926207859084\n"
          ]
        }
      ],
      "source": [
        "弧度 = radians\n",
        "π = pi\n",
        "for i in range(0, 21):\n",
        "  print(\"cos({}°) = {}\".format(i, cos(弧度(i))))"
      ]
    },
    {
      "cell_type": "code",
      "execution_count": 51,
      "metadata": {
        "colab": {
          "base_uri": "https://localhost:8080/",
          "height": 240
        },
        "colab_type": "code",
        "id": "mv-psRAGP0Xg",
        "outputId": "af227c29-29d0-4d3d-d4db-fd5dd252ce78"
      },
      "outputs": [
        {
          "name": "stdout",
          "output_type": "stream",
          "text": [
            "cos(0°) = 1.0\n",
            "cos(15°) = 0.9659258262890683\n",
            "cos(30°) = 0.8660254037844387\n",
            "cos(45°) = 0.7071067811865476\n",
            "cos(60°) = 0.5000000000000001\n",
            "cos(75°) = 0.25881904510252074\n",
            "cos(90°) = 6.123233995736766e-17\n",
            "cos(105°) = -0.25881904510252085\n",
            "cos(120°) = -0.4999999999999998\n",
            "cos(135°) = -0.7071067811865475\n",
            "cos(150°) = -0.8660254037844387\n",
            "cos(165°) = -0.9659258262890682\n",
            "cos(180°) = -1.0\n"
          ]
        }
      ],
      "source": [
        "def 餘弦函數(x):\n",
        "  return cos(弧度(x))\n",
        "for i in range(0, 181, 15):\n",
        "  print(\"cos({}°) = {}\".format(i, 餘弦函數(i)))"
      ]
    },
    {
      "cell_type": "code",
      "execution_count": null,
      "metadata": {
        "colab": {},
        "colab_type": "code",
        "id": "R1wjI64pQBVL"
      },
      "outputs": [],
      "source": [
        "a=0\n",
        "b=1\n",
        "c=2"
      ]
    },
    {
      "cell_type": "code",
      "execution_count": null,
      "metadata": {
        "colab": {},
        "colab_type": "code",
        "id": "4ErnWRt7RUv-"
      },
      "outputs": [],
      "source": [
        "a,b,c,d,e,f = 0,1,2,3,4,5"
      ]
    },
    {
      "cell_type": "code",
      "execution_count": null,
      "metadata": {
        "colab": {},
        "colab_type": "code",
        "id": "bfi3-vwlRcEH"
      },
      "outputs": [],
      "source": [
        "a,b,c,d,e,f = range(6)"
      ]
    },
    {
      "cell_type": "code",
      "execution_count": 58,
      "metadata": {
        "colab": {
          "base_uri": "https://localhost:8080/",
          "height": 34
        },
        "colab_type": "code",
        "id": "ocw43SrBRqSf",
        "outputId": "fb812c80-a195-47b7-83f0-cee61b344bd2"
      },
      "outputs": [
        {
          "data": {
            "text/plain": [
              "(0, 1, 2, 3, 4, 5)"
            ]
          },
          "execution_count": 58,
          "metadata": {
            "tags": []
          },
          "output_type": "execute_result"
        }
      ],
      "source": [
        "a,b,c,d,e,f"
      ]
    },
    {
      "cell_type": "code",
      "execution_count": null,
      "metadata": {
        "colab": {},
        "colab_type": "code",
        "id": "DZl9-wyfRtJl"
      },
      "outputs": [],
      "source": [
        "from math import *"
      ]
    },
    {
      "cell_type": "code",
      "execution_count": 60,
      "metadata": {
        "colab": {
          "base_uri": "https://localhost:8080/",
          "height": 120
        },
        "colab_type": "code",
        "id": "T5DUhTJhRwMV",
        "outputId": "2423d01b-066f-4538-8b96-176d33e2134c"
      },
      "outputs": [
        {
          "data": {
            "text/plain": [
              "(0.0,\n",
              " 0.8414709848078965,\n",
              " 0.9092974268256817,\n",
              " 0.1411200080598672,\n",
              " 0.41078129050290885,\n",
              " -0.9589242746631385)"
            ]
          },
          "execution_count": 60,
          "metadata": {
            "tags": []
          },
          "output_type": "execute_result"
        }
      ],
      "source": [
        "sin(a),sin(b),sin(c),sin(d),sin(e), sin(f)"
      ]
    },
    {
      "cell_type": "code",
      "execution_count": 61,
      "metadata": {
        "colab": {
          "base_uri": "https://localhost:8080/",
          "height": 34
        },
        "colab_type": "code",
        "id": "HYTlLwd7R4dm",
        "outputId": "f5e0f9b3-6223-45e5-d0ec-9f4e8fd1cb44"
      },
      "outputs": [
        {
          "data": {
            "text/plain": [
              "2.718281828459045"
            ]
          },
          "execution_count": 61,
          "metadata": {
            "tags": []
          },
          "output_type": "execute_result"
        }
      ],
      "source": [
        "e"
      ]
    },
    {
      "cell_type": "code",
      "execution_count": null,
      "metadata": {
        "colab": {},
        "colab_type": "code",
        "id": "IKCTT3wXSBti"
      },
      "outputs": [],
      "source": [
        "from math import sin, cos, tan, pi, sqrt"
      ]
    },
    {
      "cell_type": "code",
      "execution_count": null,
      "metadata": {
        "colab": {},
        "colab_type": "code",
        "id": "pTJu2oHkSLAX"
      },
      "outputs": [],
      "source": [
        "from math import *"
      ]
    },
    {
      "cell_type": "code",
      "execution_count": 67,
      "metadata": {
        "colab": {
          "base_uri": "https://localhost:8080/",
          "height": 480
        },
        "colab_type": "code",
        "id": "ubvF5ah1SW1d",
        "outputId": "aa845b00-df96-45be-f3a4-449b576f3c0b"
      },
      "outputs": [
        {
          "name": "stdout",
          "output_type": "stream",
          "text": [
            "total 96\n",
            "drwxr-xr-x  1 root root 4096 Sep 25 05:16 .\n",
            "drwxr-xr-x  1 root root 4096 Sep 25 05:16 ..\n",
            "drwxr-xr-x  1 root root 4096 Sep 21 17:16 bin\n",
            "drwxr-xr-x  2 root root 4096 Oct 16  2017 boot\n",
            "drwxr-xr-x  9 root root 4096 Sep 21 17:37 colabtools\n",
            "drwxr-xr-x  4 root root 4096 Sep 21 17:37 content\n",
            "drwxr-xr-x  3 root root 4096 Sep 21 17:32 datalab\n",
            "drwxr-xr-x  5 root root  360 Sep 25 05:16 dev\n",
            "-rwxr-xr-x  1 root root    0 Sep 25 05:16 .dockerenv\n",
            "drwxr-xr-x  1 root root 4096 Sep 25 05:16 etc\n",
            "drwxr-xr-x  2 root root 4096 Oct 16  2017 home\n",
            "drwxr-xr-x  1 root root 4096 Sep 21 17:16 lib\n",
            "drwxr-xr-x  2 root root 4096 Jul  6 20:44 lib64\n",
            "drwxr-xr-x  2 root root 4096 Jul  6 20:44 media\n",
            "drwxr-xr-x  2 root root 4096 Jul  6 20:44 mnt\n",
            "drwxr-xr-x  1 root root 4096 Sep 25 05:16 opt\n",
            "dr-xr-xr-x 99 root root    0 Sep 25 05:16 proc\n",
            "drwx------  1 root root 4096 Sep 25 05:16 root\n",
            "drwxr-xr-x  1 root root 4096 Jul 17 00:51 run\n",
            "drwxr-xr-x  1 root root 4096 Jul 17 00:51 sbin\n",
            "drwxr-xr-x  2 root root 4096 Jul  6 20:44 srv\n",
            "dr-xr-xr-x 12 root root    0 Sep 25 05:16 sys\n",
            "drwxrwxrwt  1 root root 4096 Sep 21 17:52 tmp\n",
            "drwxr-xr-x  4 root root 4096 Sep 21 17:31 tools\n",
            "drwxr-xr-x  1 root root 4096 Sep 21 17:37 usr\n",
            "drwxr-xr-x  1 root root 4096 Sep 25 05:16 var\n"
          ]
        }
      ],
      "source": [
        "!ls -la /"
      ]
    },
    {
      "cell_type": "code",
      "execution_count": null,
      "metadata": {
        "colab": {},
        "colab_type": "code",
        "id": "7nVtSCY_TcDe"
      },
      "outputs": [],
      "source": [
        "from os import listdir"
      ]
    },
    {
      "cell_type": "code",
      "execution_count": 74,
      "metadata": {
        "colab": {
          "base_uri": "https://localhost:8080/",
          "height": 164
        },
        "colab_type": "code",
        "id": "PT0D4P41Tqlc",
        "outputId": "b9587ba6-e2ed-4d78-b305-451131926918"
      },
      "outputs": [
        {
          "ename": "NotADirectoryError",
          "evalue": "ignored",
          "output_type": "error",
          "traceback": [
            "\u001b[0;31m---------------------------------------------------------------------------\u001b[0m",
            "\u001b[0;31mNotADirectoryError\u001b[0m                        Traceback (most recent call last)",
            "\u001b[0;32m<ipython-input-74-f8942f2902d6>\u001b[0m in \u001b[0;36m<module>\u001b[0;34m()\u001b[0m\n\u001b[0;32m----> 1\u001b[0;31m \u001b[0mlistdir\u001b[0m\u001b[0;34m(\u001b[0m\u001b[0;34m\"/.dockerenv\"\u001b[0m\u001b[0;34m)\u001b[0m\u001b[0;34m\u001b[0m\u001b[0m\n\u001b[0m",
            "\u001b[0;31mNotADirectoryError\u001b[0m: [Errno 20] Not a directory: '/.dockerenv'"
          ]
        }
      ],
      "source": [
        "listdir(\"/.dockerenv\")"
      ]
    },
    {
      "cell_type": "code",
      "execution_count": 70,
      "metadata": {
        "colab": {
          "base_uri": "https://localhost:8080/",
          "height": 428
        },
        "colab_type": "code",
        "id": "LC1jUtYgTz3E",
        "outputId": "03f4780f-6643-4605-8eba-238f2b4ac4f9"
      },
      "outputs": [
        {
          "data": {
            "text/plain": [
              "['sbin',\n",
              " 'lib',\n",
              " 'root',\n",
              " 'usr',\n",
              " 'bin',\n",
              " 'opt',\n",
              " 'dev',\n",
              " 'boot',\n",
              " 'sys',\n",
              " 'var',\n",
              " 'media',\n",
              " 'srv',\n",
              " 'proc',\n",
              " 'run',\n",
              " 'home',\n",
              " 'lib64',\n",
              " 'mnt',\n",
              " 'tmp',\n",
              " 'etc',\n",
              " '.dockerenv',\n",
              " 'content',\n",
              " 'colabtools',\n",
              " 'datalab',\n",
              " 'tools']"
            ]
          },
          "execution_count": 70,
          "metadata": {
            "tags": []
          },
          "output_type": "execute_result"
        }
      ],
      "source": [
        "listdir('/')"
      ]
    },
    {
      "cell_type": "code",
      "execution_count": 72,
      "metadata": {
        "colab": {
          "base_uri": "https://localhost:8080/",
          "height": 120
        },
        "colab_type": "code",
        "id": "rtoJd1OxT3n_",
        "outputId": "d8475e85-bf8b-44f5-874e-40cf523dfc4a"
      },
      "outputs": [
        {
          "data": {
            "text/plain": [
              "['california_housing_train.csv',\n",
              " 'california_housing_test.csv',\n",
              " 'README.md',\n",
              " 'anscombe.json',\n",
              " 'mnist_test.csv',\n",
              " 'mnist_train_small.csv']"
            ]
          },
          "execution_count": 72,
          "metadata": {
            "tags": []
          },
          "output_type": "execute_result"
        }
      ],
      "source": [
        "listdir('sample_data')"
      ]
    },
    {
      "cell_type": "code",
      "execution_count": 73,
      "metadata": {
        "colab": {
          "base_uri": "https://localhost:8080/",
          "height": 120
        },
        "colab_type": "code",
        "id": "g983nf3lUH4P",
        "outputId": "c7a00761-c75c-468b-a633-db3597a10d6d"
      },
      "outputs": [
        {
          "data": {
            "text/plain": [
              "['config_sentinel',\n",
              " 'active_config',\n",
              " 'configurations',\n",
              " '.last_update_check.json',\n",
              " 'logs',\n",
              " 'gce']"
            ]
          },
          "execution_count": 73,
          "metadata": {
            "tags": []
          },
          "output_type": "execute_result"
        }
      ],
      "source": [
        "listdir('.config')"
      ]
    },
    {
      "cell_type": "code",
      "execution_count": 79,
      "metadata": {
        "colab": {
          "base_uri": "https://localhost:8080/",
          "height": 843
        },
        "colab_type": "code",
        "id": "UoixpF9MULhl",
        "outputId": "9832161f-0e0a-4021-de60-97faafd0eee9"
      },
      "outputs": [
        {
          "name": "stdout",
          "output_type": "stream",
          "text": [
            "sbin\n",
            "['chcpu', 'wipefs', 'sfdisk', 'dumpe2fs', 'e2label', 'fsck.ext3', 'logsave', 'fstab-decode', 'fsck', 'zramctl', 'fsck.cramfs', 'fsck.ext4', 'killall5', 'getty', 'fsck.minix', 'runuser', 'switch_root', 'mkhomedir_helper', 'ctrlaltdel', 'pam_tally', 'fsck.ext2', 'mkfs.ext2', 'mke2fs', 'sulogin', 'pam_extrausers_chkpwd', 'pam_extrausers_update', 'blockdev', 'unix_update', 'debugfs', 'swapon', 'sysctl', 'mkfs.ext3', 'swaplabel', 'isosize', 'agetty', 'e2fsck', 'swapoff', 'blkid', 'fstrim', 'mkswap', 'losetup', 'start-stop-daemon', 'shadowconfig', 'cfdisk', 'pivot_root', 'hwclock', 'e2undo', 'mkfs.ext4', 'ldconfig.real', 'resize2fs', 'mkfs.cramfs', 'ldconfig', 'blkdiscard', 'mkfs.minix', 'e2image', 'mkfs.bfs', 'badblocks', 'findfs', 'tune2fs', 'fdisk', 'installkernel', 'raw', 'fsfreeze', 'unix_chkpwd', 'mkfs', 'pam_tally2', 'initctl']\n",
            "lib\n",
            "['systemd', 'udev', 'terminfo', 'x86_64-linux-gnu', 'lsb', 'init', 'cpp']\n",
            "root\n",
            "['.profile', '.bashrc', '.ipython', '.forever', '.cache', '.config', '.local', '.node-gyp', '.npm', '.jupyter', '.tox', '.gsutil']\n",
            "usr\n",
            "['sbin', 'lib', 'src', 'share', 'bin', 'games', 'local', 'include', 'grte']\n",
            "bin\n",
            "['sh', 'sleep', 'pidof', 'cat', 'zcat', 'date', 'chown', 'umount', 'run-parts', 'chmod', 'login', 'which', 'znew', 'cp', 'ln', 'gunzip', 'sed', 'egrep', 'gzexe', 'domainname', 'true', 'nisdomainname', 'fgrep', 'pwd', 'df', 'tar', 'su', 'readlink', 'zless', 'touch', 'zcmp', 'uncompress', 'zforce', 'ls', 'dd', 'rmdir', 'zfgrep', 'mkdir', 'sh.distrib', 'sync', 'zgrep', 'chgrp', 'rm', 'mount', 'ypdomainname', 'more', 'mktemp', 'findmnt', 'hostname', 'kill', 'bash', 'uname', 'lsblk', 'mountpoint', 'dir', 'ps', 'false', 'wdctl', 'dash', 'zdiff', 'stty', 'rbash', 'tempfile', 'vdir', 'zmore', 'mknod', 'mv', 'echo', 'grep', 'dmesg', 'zegrep', 'gzip', 'dnsdomainname', 'bzgrep', 'bzless', 'bzfgrep', 'bzcat', 'bzcmp', 'bzip2recover', 'bzegrep', 'bzdiff', 'bzexe', 'bzip2', 'bzmore', 'bunzip2']\n",
            "opt\n",
            "['bin', 'google']\n",
            "dev\n",
            "['core', 'stderr', 'stdout', 'stdin', 'fd', 'ptmx', 'fuse', 'urandom', 'zero', 'tty', 'full', 'random', 'null', 'shm', 'mqueue', 'pts']\n",
            "boot\n",
            "[]\n",
            "sys\n",
            "['kernel', 'devices', 'power', 'class', 'dev', 'firmware', 'fs', 'bus', 'module', 'block']\n",
            "var\n",
            "['cache', 'lib', 'backups', 'spool', 'opt', 'mail', 'lock', 'run', 'log', 'local', 'tmp', 'colab']\n",
            "media\n",
            "[]\n",
            "srv\n",
            "[]\n",
            "proc\n",
            "['fs', 'bus', 'dma', 'irq', 'net', 'sys', 'tty', 'acpi', 'keys', 'kmsg', 'misc', 'mtrr', 'scsi', 'stat', 'iomem', 'kcore', 'locks', 'swaps', 'crypto', 'driver', 'mounts', 'uptime', 'vmstat', 'cgroups', 'cmdline', 'cpuinfo', 'devices', 'ioports', 'loadavg', 'meminfo', 'modules', 'sysvipc', 'version', 'consoles', 'kallsyms', 'slabinfo', 'softirqs', 'zoneinfo', 'buddyinfo', 'config.gz', 'diskstats', 'key-users', 'schedstat', 'interrupts', 'kpagecount', 'kpageflags', 'partitions', 'timer_list', 'execdomains', 'filesystems', 'kpagecgroup', 'vmallocinfo', 'pagetypeinfo', 'sysrq-trigger', 'self', 'thread-self', '1', '6', '16', '22', '29', '52']\n",
            "run\n",
            "['mount', 'lock', 'utmp', 'systemd']\n",
            "home\n",
            "[]\n",
            "lib64\n",
            "['ld-linux-x86-64.so.2']\n",
            "mnt\n",
            "[]\n",
            "tmp\n",
            "[]\n",
            "etc\n",
            "['alternatives', 'adduser.conf', 'shells', 'selinux', 'legal', 'dpkg', 'subuid', 'rc0.d', 'gshadow', 'group', 'systemd', 'lsb-release', 'logrotate.d', 'bash.bashrc', 'rcS.d', 'networks', 'sysctl.d', 'ld.so.cache', 'inputrc', 'issue.net', 'opt', 'localtime', 'securetty', 'host.conf', 'default', 'fstab', 'hosts', 'kernel', 'ld.so.conf.d', '.pwd.lock', 'debian_version', 'bindresvport.blacklist', 'deluser.conf', 'terminfo', 'passwd', 'rc6.d', 'cron.daily', 'init.d', 'rc3.d', 'pam.d', 'gai.conf', 'pam.conf', 'cron.weekly', 'rc1.d', 'ld.so.conf', 'profile', 'rc2.d', 'hostname', 'shadow', 'apt', 'os-release', 'sysctl.conf', 'mke2fs.conf', 'resolv.conf', 'debconf.conf', 'subgid', 'libaudit.conf', 'rmt', 'rc4.d', 'rc5.d', 'login.defs', 'security', 'X11', 'profile.d', 'issue', 'nsswitch.conf', 'update-motd.d', 'environment', 'skel', 'machine-id', 'mtab', 'timezone', 'locale.alias', 'pip.conf', 'python2.7', 'gss', 'mime.types', 'bash_completion.d', 'locale.gen', 'ipython', 'mailcap', 'ca-certificates.conf', 'ca-certificates', 'ssl', 'mailcap.order', 'jupyter', 'ldap', 'ucf.conf', 'python', 'ssh', 'fonts', 'python3', 'perl', 'python3.6', 'wgetrc', 'group-', 'gshadow-']\n",
            ".dockerenv\n",
            "content\n",
            "['sample_data', '.config']\n",
            "colabtools\n",
            "['.gitignore', 'LICENSE', '.pytest_cache', 'MANIFEST.in', 'setup.cfg', 'google_colab.egg-info', '.travis.yml', 'tests', 'setup.py', 'README.md', '.tox', 'CONTRIBUTING.md', 'google', 'tox.ini', 'dist', 'cloudbuild']\n",
            "datalab\n",
            "['web', 'run.sh']\n",
            "tools\n",
            "['node', 'google-cloud-sdk']\n"
          ]
        }
      ],
      "source": [
        "for p in listdir('/'):\n",
        "  print(p)\n",
        "  if p != '.dockerenv':\n",
        "    print(listdir('/'+p))"
      ]
    },
    {
      "cell_type": "code",
      "execution_count": 80,
      "metadata": {
        "colab": {
          "base_uri": "https://localhost:8080/",
          "height": 887
        },
        "colab_type": "code",
        "id": "njVFcx8OVzXV",
        "outputId": "3cbdc50f-e574-45cd-f188-2e3c64fd8ff5"
      },
      "outputs": [
        {
          "name": "stdout",
          "output_type": "stream",
          "text": [
            "sbin\n",
            "['chcpu', 'wipefs', 'sfdisk', 'dumpe2fs', 'e2label', 'fsck.ext3', 'logsave', 'fstab-decode', 'fsck', 'zramctl', 'fsck.cramfs', 'fsck.ext4', 'killall5', 'getty', 'fsck.minix', 'runuser', 'switch_root', 'mkhomedir_helper', 'ctrlaltdel', 'pam_tally', 'fsck.ext2', 'mkfs.ext2', 'mke2fs', 'sulogin', 'pam_extrausers_chkpwd', 'pam_extrausers_update', 'blockdev', 'unix_update', 'debugfs', 'swapon', 'sysctl', 'mkfs.ext3', 'swaplabel', 'isosize', 'agetty', 'e2fsck', 'swapoff', 'blkid', 'fstrim', 'mkswap', 'losetup', 'start-stop-daemon', 'shadowconfig', 'cfdisk', 'pivot_root', 'hwclock', 'e2undo', 'mkfs.ext4', 'ldconfig.real', 'resize2fs', 'mkfs.cramfs', 'ldconfig', 'blkdiscard', 'mkfs.minix', 'e2image', 'mkfs.bfs', 'badblocks', 'findfs', 'tune2fs', 'fdisk', 'installkernel', 'raw', 'fsfreeze', 'unix_chkpwd', 'mkfs', 'pam_tally2', 'initctl']\n",
            "lib\n",
            "['systemd', 'udev', 'terminfo', 'x86_64-linux-gnu', 'lsb', 'init', 'cpp']\n",
            "root\n",
            "['.profile', '.bashrc', '.ipython', '.forever', '.cache', '.config', '.local', '.node-gyp', '.npm', '.jupyter', '.tox', '.gsutil']\n",
            "usr\n",
            "['sbin', 'lib', 'src', 'share', 'bin', 'games', 'local', 'include', 'grte']\n",
            "bin\n",
            "['sh', 'sleep', 'pidof', 'cat', 'zcat', 'date', 'chown', 'umount', 'run-parts', 'chmod', 'login', 'which', 'znew', 'cp', 'ln', 'gunzip', 'sed', 'egrep', 'gzexe', 'domainname', 'true', 'nisdomainname', 'fgrep', 'pwd', 'df', 'tar', 'su', 'readlink', 'zless', 'touch', 'zcmp', 'uncompress', 'zforce', 'ls', 'dd', 'rmdir', 'zfgrep', 'mkdir', 'sh.distrib', 'sync', 'zgrep', 'chgrp', 'rm', 'mount', 'ypdomainname', 'more', 'mktemp', 'findmnt', 'hostname', 'kill', 'bash', 'uname', 'lsblk', 'mountpoint', 'dir', 'ps', 'false', 'wdctl', 'dash', 'zdiff', 'stty', 'rbash', 'tempfile', 'vdir', 'zmore', 'mknod', 'mv', 'echo', 'grep', 'dmesg', 'zegrep', 'gzip', 'dnsdomainname', 'bzgrep', 'bzless', 'bzfgrep', 'bzcat', 'bzcmp', 'bzip2recover', 'bzegrep', 'bzdiff', 'bzexe', 'bzip2', 'bzmore', 'bunzip2']\n",
            "opt\n",
            "['bin', 'google']\n",
            "dev\n",
            "['core', 'stderr', 'stdout', 'stdin', 'fd', 'ptmx', 'fuse', 'urandom', 'zero', 'tty', 'full', 'random', 'null', 'shm', 'mqueue', 'pts']\n",
            "boot\n",
            "[]\n",
            "sys\n",
            "['kernel', 'devices', 'power', 'class', 'dev', 'firmware', 'fs', 'bus', 'module', 'block']\n",
            "var\n",
            "['cache', 'lib', 'backups', 'spool', 'opt', 'mail', 'lock', 'run', 'log', 'local', 'tmp', 'colab']\n",
            "media\n",
            "[]\n",
            "srv\n",
            "[]\n",
            "proc\n",
            "['fs', 'bus', 'dma', 'irq', 'net', 'sys', 'tty', 'acpi', 'keys', 'kmsg', 'misc', 'mtrr', 'scsi', 'stat', 'iomem', 'kcore', 'locks', 'swaps', 'crypto', 'driver', 'mounts', 'uptime', 'vmstat', 'cgroups', 'cmdline', 'cpuinfo', 'devices', 'ioports', 'loadavg', 'meminfo', 'modules', 'sysvipc', 'version', 'consoles', 'kallsyms', 'slabinfo', 'softirqs', 'zoneinfo', 'buddyinfo', 'config.gz', 'diskstats', 'key-users', 'schedstat', 'interrupts', 'kpagecount', 'kpageflags', 'partitions', 'timer_list', 'execdomains', 'filesystems', 'kpagecgroup', 'vmallocinfo', 'pagetypeinfo', 'sysrq-trigger', 'self', 'thread-self', '1', '6', '16', '22', '29', '52']\n",
            "run\n",
            "['mount', 'lock', 'utmp', 'systemd']\n",
            "home\n",
            "[]\n",
            "lib64\n",
            "['ld-linux-x86-64.so.2']\n",
            "mnt\n",
            "[]\n",
            "tmp\n",
            "[]\n",
            "etc\n",
            "['alternatives', 'adduser.conf', 'shells', 'selinux', 'legal', 'dpkg', 'subuid', 'rc0.d', 'gshadow', 'group', 'systemd', 'lsb-release', 'logrotate.d', 'bash.bashrc', 'rcS.d', 'networks', 'sysctl.d', 'ld.so.cache', 'inputrc', 'issue.net', 'opt', 'localtime', 'securetty', 'host.conf', 'default', 'fstab', 'hosts', 'kernel', 'ld.so.conf.d', '.pwd.lock', 'debian_version', 'bindresvport.blacklist', 'deluser.conf', 'terminfo', 'passwd', 'rc6.d', 'cron.daily', 'init.d', 'rc3.d', 'pam.d', 'gai.conf', 'pam.conf', 'cron.weekly', 'rc1.d', 'ld.so.conf', 'profile', 'rc2.d', 'hostname', 'shadow', 'apt', 'os-release', 'sysctl.conf', 'mke2fs.conf', 'resolv.conf', 'debconf.conf', 'subgid', 'libaudit.conf', 'rmt', 'rc4.d', 'rc5.d', 'login.defs', 'security', 'X11', 'profile.d', 'issue', 'nsswitch.conf', 'update-motd.d', 'environment', 'skel', 'machine-id', 'mtab', 'timezone', 'locale.alias', 'pip.conf', 'python2.7', 'gss', 'mime.types', 'bash_completion.d', 'locale.gen', 'ipython', 'mailcap', 'ca-certificates.conf', 'ca-certificates', 'ssl', 'mailcap.order', 'jupyter', 'ldap', 'ucf.conf', 'python', 'ssh', 'fonts', 'python3', 'perl', 'python3.6', 'wgetrc', 'group-', 'gshadow-']\n",
            ".dockerenv\n"
          ]
        },
        {
          "ename": "NotADirectoryError",
          "evalue": "ignored",
          "output_type": "error",
          "traceback": [
            "\u001b[0;31m---------------------------------------------------------------------------\u001b[0m",
            "\u001b[0;31mNotADirectoryError\u001b[0m                        Traceback (most recent call last)",
            "\u001b[0;32m<ipython-input-80-fe821635d4de>\u001b[0m in \u001b[0;36m<module>\u001b[0;34m()\u001b[0m\n\u001b[1;32m      1\u001b[0m \u001b[0;32mfor\u001b[0m \u001b[0mp\u001b[0m \u001b[0;32min\u001b[0m \u001b[0mlistdir\u001b[0m\u001b[0;34m(\u001b[0m\u001b[0;34m'/'\u001b[0m\u001b[0;34m)\u001b[0m\u001b[0;34m:\u001b[0m\u001b[0;34m\u001b[0m\u001b[0m\n\u001b[1;32m      2\u001b[0m   \u001b[0mprint\u001b[0m\u001b[0;34m(\u001b[0m\u001b[0mp\u001b[0m\u001b[0;34m)\u001b[0m\u001b[0;34m\u001b[0m\u001b[0m\n\u001b[0;32m----> 3\u001b[0;31m   \u001b[0mprint\u001b[0m\u001b[0;34m(\u001b[0m\u001b[0mlistdir\u001b[0m\u001b[0;34m(\u001b[0m\u001b[0;34m'/'\u001b[0m\u001b[0;34m+\u001b[0m\u001b[0mp\u001b[0m\u001b[0;34m)\u001b[0m\u001b[0;34m)\u001b[0m\u001b[0;34m\u001b[0m\u001b[0m\n\u001b[0m",
            "\u001b[0;31mNotADirectoryError\u001b[0m: [Errno 20] Not a directory: '/.dockerenv'"
          ]
        }
      ],
      "source": [
        "for p in listdir('/'):\n",
        "  print(p)\n",
        "  print(listdir('/'+p))"
      ]
    },
    {
      "cell_type": "code",
      "execution_count": 88,
      "metadata": {
        "colab": {
          "base_uri": "https://localhost:8080/",
          "height": 860
        },
        "colab_type": "code",
        "id": "lWCadhXGWMWk",
        "outputId": "9a62f8a2-5e4f-468a-a582-9a4708b1f5ef"
      },
      "outputs": [
        {
          "name": "stdout",
          "output_type": "stream",
          "text": [
            "sbin\n",
            "['chcpu', 'wipefs', 'sfdisk', 'dumpe2fs', 'e2label', 'fsck.ext3', 'logsave', 'fstab-decode', 'fsck', 'zramctl', 'fsck.cramfs', 'fsck.ext4', 'killall5', 'getty', 'fsck.minix', 'runuser', 'switch_root', 'mkhomedir_helper', 'ctrlaltdel', 'pam_tally', 'fsck.ext2', 'mkfs.ext2', 'mke2fs', 'sulogin', 'pam_extrausers_chkpwd', 'pam_extrausers_update', 'blockdev', 'unix_update', 'debugfs', 'swapon', 'sysctl', 'mkfs.ext3', 'swaplabel', 'isosize', 'agetty', 'e2fsck', 'swapoff', 'blkid', 'fstrim', 'mkswap', 'losetup', 'start-stop-daemon', 'shadowconfig', 'cfdisk', 'pivot_root', 'hwclock', 'e2undo', 'mkfs.ext4', 'ldconfig.real', 'resize2fs', 'mkfs.cramfs', 'ldconfig', 'blkdiscard', 'mkfs.minix', 'e2image', 'mkfs.bfs', 'badblocks', 'findfs', 'tune2fs', 'fdisk', 'installkernel', 'raw', 'fsfreeze', 'unix_chkpwd', 'mkfs', 'pam_tally2', 'initctl']\n",
            "lib\n",
            "['systemd', 'udev', 'terminfo', 'x86_64-linux-gnu', 'lsb', 'init', 'cpp']\n",
            "root\n",
            "['.profile', '.bashrc', '.ipython', '.forever', '.cache', '.config', '.local', '.node-gyp', '.npm', '.jupyter', '.tox', '.gsutil']\n",
            "usr\n",
            "['sbin', 'lib', 'src', 'share', 'bin', 'games', 'local', 'include', 'grte']\n",
            "bin\n",
            "['sh', 'sleep', 'pidof', 'cat', 'zcat', 'date', 'chown', 'umount', 'run-parts', 'chmod', 'login', 'which', 'znew', 'cp', 'ln', 'gunzip', 'sed', 'egrep', 'gzexe', 'domainname', 'true', 'nisdomainname', 'fgrep', 'pwd', 'df', 'tar', 'su', 'readlink', 'zless', 'touch', 'zcmp', 'uncompress', 'zforce', 'ls', 'dd', 'rmdir', 'zfgrep', 'mkdir', 'sh.distrib', 'sync', 'zgrep', 'chgrp', 'rm', 'mount', 'ypdomainname', 'more', 'mktemp', 'findmnt', 'hostname', 'kill', 'bash', 'uname', 'lsblk', 'mountpoint', 'dir', 'ps', 'false', 'wdctl', 'dash', 'zdiff', 'stty', 'rbash', 'tempfile', 'vdir', 'zmore', 'mknod', 'mv', 'echo', 'grep', 'dmesg', 'zegrep', 'gzip', 'dnsdomainname', 'bzgrep', 'bzless', 'bzfgrep', 'bzcat', 'bzcmp', 'bzip2recover', 'bzegrep', 'bzdiff', 'bzexe', 'bzip2', 'bzmore', 'bunzip2']\n",
            "opt\n",
            "['bin', 'google']\n",
            "dev\n",
            "['core', 'stderr', 'stdout', 'stdin', 'fd', 'ptmx', 'fuse', 'urandom', 'zero', 'tty', 'full', 'random', 'null', 'shm', 'mqueue', 'pts']\n",
            "boot\n",
            "[]\n",
            "sys\n",
            "['kernel', 'devices', 'power', 'class', 'dev', 'firmware', 'fs', 'bus', 'module', 'block']\n",
            "var\n",
            "['cache', 'lib', 'backups', 'spool', 'opt', 'mail', 'lock', 'run', 'log', 'local', 'tmp', 'colab']\n",
            "media\n",
            "[]\n",
            "srv\n",
            "[]\n",
            "proc\n",
            "['fs', 'bus', 'dma', 'irq', 'net', 'sys', 'tty', 'acpi', 'keys', 'kmsg', 'misc', 'mtrr', 'scsi', 'stat', 'iomem', 'kcore', 'locks', 'swaps', 'crypto', 'driver', 'mounts', 'uptime', 'vmstat', 'cgroups', 'cmdline', 'cpuinfo', 'devices', 'ioports', 'loadavg', 'meminfo', 'modules', 'sysvipc', 'version', 'consoles', 'kallsyms', 'slabinfo', 'softirqs', 'zoneinfo', 'buddyinfo', 'config.gz', 'diskstats', 'key-users', 'schedstat', 'interrupts', 'kpagecount', 'kpageflags', 'partitions', 'timer_list', 'execdomains', 'filesystems', 'kpagecgroup', 'vmallocinfo', 'pagetypeinfo', 'sysrq-trigger', 'self', 'thread-self', '1', '6', '16', '22', '29', '52']\n",
            "run\n",
            "['mount', 'lock', 'utmp', 'systemd']\n",
            "home\n",
            "[]\n",
            "lib64\n",
            "['ld-linux-x86-64.so.2']\n",
            "mnt\n",
            "[]\n",
            "tmp\n",
            "[]\n",
            "etc\n",
            "['alternatives', 'adduser.conf', 'shells', 'selinux', 'legal', 'dpkg', 'subuid', 'rc0.d', 'gshadow', 'group', 'systemd', 'lsb-release', 'logrotate.d', 'bash.bashrc', 'rcS.d', 'networks', 'sysctl.d', 'ld.so.cache', 'inputrc', 'issue.net', 'opt', 'localtime', 'securetty', 'host.conf', 'default', 'fstab', 'hosts', 'kernel', 'ld.so.conf.d', '.pwd.lock', 'debian_version', 'bindresvport.blacklist', 'deluser.conf', 'terminfo', 'passwd', 'rc6.d', 'cron.daily', 'init.d', 'rc3.d', 'pam.d', 'gai.conf', 'pam.conf', 'cron.weekly', 'rc1.d', 'ld.so.conf', 'profile', 'rc2.d', 'hostname', 'shadow', 'apt', 'os-release', 'sysctl.conf', 'mke2fs.conf', 'resolv.conf', 'debconf.conf', 'subgid', 'libaudit.conf', 'rmt', 'rc4.d', 'rc5.d', 'login.defs', 'security', 'X11', 'profile.d', 'issue', 'nsswitch.conf', 'update-motd.d', 'environment', 'skel', 'machine-id', 'mtab', 'timezone', 'locale.alias', 'pip.conf', 'python2.7', 'gss', 'mime.types', 'bash_completion.d', 'locale.gen', 'ipython', 'mailcap', 'ca-certificates.conf', 'ca-certificates', 'ssl', 'mailcap.order', 'jupyter', 'ldap', 'ucf.conf', 'python', 'ssh', 'fonts', 'python3', 'perl', 'python3.6', 'wgetrc', 'group-', 'gshadow-']\n",
            ".dockerenv\n",
            ".dockerenv is not a directory\n",
            "content\n",
            "['sample_data', '.config']\n",
            "colabtools\n",
            "['.gitignore', 'LICENSE', '.pytest_cache', 'MANIFEST.in', 'setup.cfg', 'google_colab.egg-info', '.travis.yml', 'tests', 'setup.py', 'README.md', '.tox', 'CONTRIBUTING.md', 'google', 'tox.ini', 'dist', 'cloudbuild']\n",
            "datalab\n",
            "['web', 'run.sh']\n",
            "tools\n",
            "['node', 'google-cloud-sdk']\n"
          ]
        }
      ],
      "source": [
        "for p in listdir('/'):\n",
        "  print(p)\n",
        "  try:\n",
        "    print(listdir('/'+p))\n",
        "  except NotADirectoryError:\n",
        "    print(\"{} is not a directory\".format(p))\n",
        "    "
      ]
    },
    {
      "cell_type": "code",
      "execution_count": 86,
      "metadata": {
        "colab": {
          "base_uri": "https://localhost:8080/",
          "height": 840
        },
        "colab_type": "code",
        "id": "gxcXvq4NX2_8",
        "outputId": "e65f237b-7b9a-47b8-843e-5b17478cca65"
      },
      "outputs": [
        {
          "name": "stdout",
          "output_type": "stream",
          "text": [
            "sbin\n",
            "sbin cannot be read\n",
            "lib\n",
            "lib cannot be read\n",
            "root\n",
            "root cannot be read\n",
            "usr\n",
            "usr cannot be read\n",
            "bin\n",
            "bin cannot be read\n",
            "opt\n",
            "opt cannot be read\n",
            "dev\n",
            "dev cannot be read\n",
            "boot\n",
            "boot cannot be read\n",
            "sys\n",
            "sys cannot be read\n",
            "var\n",
            "var cannot be read\n",
            "media\n",
            "media cannot be read\n",
            "srv\n",
            "srv cannot be read\n",
            "proc\n",
            "proc cannot be read\n",
            "run\n",
            "run cannot be read\n",
            "home\n",
            "home cannot be read\n",
            "lib64\n",
            "lib64 cannot be read\n",
            "mnt\n",
            "mnt cannot be read\n",
            "tmp\n",
            "tmp cannot be read\n",
            "etc\n",
            "etc cannot be read\n",
            ".dockerenv\n",
            ".dockerenv cannot be read\n",
            "content\n",
            "content cannot be read\n",
            "colabtools\n",
            "colabtools cannot be read\n",
            "datalab\n",
            "datalab cannot be read\n",
            "tools\n",
            "tools cannot be read\n"
          ]
        }
      ],
      "source": [
        "for p in listdir('/'):\n",
        "  print(p)\n",
        "  try:\n",
        "    prnt(listdir('/'+p))\n",
        "  except:\n",
        "    print(\"{} cannot be read\".format(p))\n",
        "    "
      ]
    },
    {
      "cell_type": "code",
      "execution_count": null,
      "metadata": {
        "colab": {},
        "colab_type": "code",
        "id": "aQ5aMMzIYfVA"
      },
      "outputs": [],
      "source": [
        "from os.path import isdir"
      ]
    },
    {
      "cell_type": "code",
      "execution_count": 91,
      "metadata": {
        "colab": {
          "base_uri": "https://localhost:8080/",
          "height": 860
        },
        "colab_type": "code",
        "id": "PiGxBD5LZGj8",
        "outputId": "e1f77a25-97e4-4286-e3f5-1279f458c283"
      },
      "outputs": [
        {
          "name": "stdout",
          "output_type": "stream",
          "text": [
            "sbin\n",
            "['chcpu', 'wipefs', 'sfdisk', 'dumpe2fs', 'e2label', 'fsck.ext3', 'logsave', 'fstab-decode', 'fsck', 'zramctl', 'fsck.cramfs', 'fsck.ext4', 'killall5', 'getty', 'fsck.minix', 'runuser', 'switch_root', 'mkhomedir_helper', 'ctrlaltdel', 'pam_tally', 'fsck.ext2', 'mkfs.ext2', 'mke2fs', 'sulogin', 'pam_extrausers_chkpwd', 'pam_extrausers_update', 'blockdev', 'unix_update', 'debugfs', 'swapon', 'sysctl', 'mkfs.ext3', 'swaplabel', 'isosize', 'agetty', 'e2fsck', 'swapoff', 'blkid', 'fstrim', 'mkswap', 'losetup', 'start-stop-daemon', 'shadowconfig', 'cfdisk', 'pivot_root', 'hwclock', 'e2undo', 'mkfs.ext4', 'ldconfig.real', 'resize2fs', 'mkfs.cramfs', 'ldconfig', 'blkdiscard', 'mkfs.minix', 'e2image', 'mkfs.bfs', 'badblocks', 'findfs', 'tune2fs', 'fdisk', 'installkernel', 'raw', 'fsfreeze', 'unix_chkpwd', 'mkfs', 'pam_tally2', 'initctl']\n",
            "lib\n",
            "['systemd', 'udev', 'terminfo', 'x86_64-linux-gnu', 'lsb', 'init', 'cpp']\n",
            "root\n",
            "['.profile', '.bashrc', '.ipython', '.forever', '.cache', '.config', '.local', '.node-gyp', '.npm', '.jupyter', '.tox', '.gsutil']\n",
            "usr\n",
            "['sbin', 'lib', 'src', 'share', 'bin', 'games', 'local', 'include', 'grte']\n",
            "bin\n",
            "['sh', 'sleep', 'pidof', 'cat', 'zcat', 'date', 'chown', 'umount', 'run-parts', 'chmod', 'login', 'which', 'znew', 'cp', 'ln', 'gunzip', 'sed', 'egrep', 'gzexe', 'domainname', 'true', 'nisdomainname', 'fgrep', 'pwd', 'df', 'tar', 'su', 'readlink', 'zless', 'touch', 'zcmp', 'uncompress', 'zforce', 'ls', 'dd', 'rmdir', 'zfgrep', 'mkdir', 'sh.distrib', 'sync', 'zgrep', 'chgrp', 'rm', 'mount', 'ypdomainname', 'more', 'mktemp', 'findmnt', 'hostname', 'kill', 'bash', 'uname', 'lsblk', 'mountpoint', 'dir', 'ps', 'false', 'wdctl', 'dash', 'zdiff', 'stty', 'rbash', 'tempfile', 'vdir', 'zmore', 'mknod', 'mv', 'echo', 'grep', 'dmesg', 'zegrep', 'gzip', 'dnsdomainname', 'bzgrep', 'bzless', 'bzfgrep', 'bzcat', 'bzcmp', 'bzip2recover', 'bzegrep', 'bzdiff', 'bzexe', 'bzip2', 'bzmore', 'bunzip2']\n",
            "opt\n",
            "['bin', 'google']\n",
            "dev\n",
            "['core', 'stderr', 'stdout', 'stdin', 'fd', 'ptmx', 'fuse', 'urandom', 'zero', 'tty', 'full', 'random', 'null', 'shm', 'mqueue', 'pts']\n",
            "boot\n",
            "[]\n",
            "sys\n",
            "['kernel', 'devices', 'power', 'class', 'dev', 'firmware', 'fs', 'bus', 'module', 'block']\n",
            "var\n",
            "['cache', 'lib', 'backups', 'spool', 'opt', 'mail', 'lock', 'run', 'log', 'local', 'tmp', 'colab']\n",
            "media\n",
            "[]\n",
            "srv\n",
            "[]\n",
            "proc\n",
            "['fs', 'bus', 'dma', 'irq', 'net', 'sys', 'tty', 'acpi', 'keys', 'kmsg', 'misc', 'mtrr', 'scsi', 'stat', 'iomem', 'kcore', 'locks', 'swaps', 'crypto', 'driver', 'mounts', 'uptime', 'vmstat', 'cgroups', 'cmdline', 'cpuinfo', 'devices', 'ioports', 'loadavg', 'meminfo', 'modules', 'sysvipc', 'version', 'consoles', 'kallsyms', 'slabinfo', 'softirqs', 'zoneinfo', 'buddyinfo', 'config.gz', 'diskstats', 'key-users', 'schedstat', 'interrupts', 'kpagecount', 'kpageflags', 'partitions', 'timer_list', 'execdomains', 'filesystems', 'kpagecgroup', 'vmallocinfo', 'pagetypeinfo', 'sysrq-trigger', 'self', 'thread-self', '1', '6', '16', '22', '29', '52']\n",
            "run\n",
            "['mount', 'lock', 'utmp', 'systemd']\n",
            "home\n",
            "[]\n",
            "lib64\n",
            "['ld-linux-x86-64.so.2']\n",
            "mnt\n",
            "[]\n",
            "tmp\n",
            "[]\n",
            "etc\n",
            "['alternatives', 'adduser.conf', 'shells', 'selinux', 'legal', 'dpkg', 'subuid', 'rc0.d', 'gshadow', 'group', 'systemd', 'lsb-release', 'logrotate.d', 'bash.bashrc', 'rcS.d', 'networks', 'sysctl.d', 'ld.so.cache', 'inputrc', 'issue.net', 'opt', 'localtime', 'securetty', 'host.conf', 'default', 'fstab', 'hosts', 'kernel', 'ld.so.conf.d', '.pwd.lock', 'debian_version', 'bindresvport.blacklist', 'deluser.conf', 'terminfo', 'passwd', 'rc6.d', 'cron.daily', 'init.d', 'rc3.d', 'pam.d', 'gai.conf', 'pam.conf', 'cron.weekly', 'rc1.d', 'ld.so.conf', 'profile', 'rc2.d', 'hostname', 'shadow', 'apt', 'os-release', 'sysctl.conf', 'mke2fs.conf', 'resolv.conf', 'debconf.conf', 'subgid', 'libaudit.conf', 'rmt', 'rc4.d', 'rc5.d', 'login.defs', 'security', 'X11', 'profile.d', 'issue', 'nsswitch.conf', 'update-motd.d', 'environment', 'skel', 'machine-id', 'mtab', 'timezone', 'locale.alias', 'pip.conf', 'python2.7', 'gss', 'mime.types', 'bash_completion.d', 'locale.gen', 'ipython', 'mailcap', 'ca-certificates.conf', 'ca-certificates', 'ssl', 'mailcap.order', 'jupyter', 'ldap', 'ucf.conf', 'python', 'ssh', 'fonts', 'python3', 'perl', 'python3.6', 'wgetrc', 'group-', 'gshadow-']\n",
            ".dockerenv\n",
            ".dockerenv is not a dir\n",
            "content\n",
            "['sample_data', '.config']\n",
            "colabtools\n",
            "['.gitignore', 'LICENSE', '.pytest_cache', 'MANIFEST.in', 'setup.cfg', 'google_colab.egg-info', '.travis.yml', 'tests', 'setup.py', 'README.md', '.tox', 'CONTRIBUTING.md', 'google', 'tox.ini', 'dist', 'cloudbuild']\n",
            "datalab\n",
            "['web', 'run.sh']\n",
            "tools\n",
            "['node', 'google-cloud-sdk']\n"
          ]
        }
      ],
      "source": [
        "for p in listdir('/'):\n",
        "  print(p)\n",
        "  fn = '/'+p\n",
        "  if isdir(fn):\n",
        "    print(listdir(fn))\n",
        "  else:\n",
        "    print(\"{} is not a dir\".format(p))\n",
        "    "
      ]
    },
    {
      "cell_type": "code",
      "execution_count": null,
      "metadata": {
        "colab": {},
        "colab_type": "code",
        "id": "OuYOjtrlZgH0"
      },
      "outputs": [],
      "source": [
        "from os.path import join"
      ]
    },
    {
      "cell_type": "code",
      "execution_count": 93,
      "metadata": {
        "colab": {
          "base_uri": "https://localhost:8080/",
          "height": 860
        },
        "colab_type": "code",
        "id": "uSpg-TuqZd1z",
        "outputId": "0dfbed2d-351c-4253-d357-91af409ae24f"
      },
      "outputs": [
        {
          "name": "stdout",
          "output_type": "stream",
          "text": [
            "sbin\n",
            "['chcpu', 'wipefs', 'sfdisk', 'dumpe2fs', 'e2label', 'fsck.ext3', 'logsave', 'fstab-decode', 'fsck', 'zramctl', 'fsck.cramfs', 'fsck.ext4', 'killall5', 'getty', 'fsck.minix', 'runuser', 'switch_root', 'mkhomedir_helper', 'ctrlaltdel', 'pam_tally', 'fsck.ext2', 'mkfs.ext2', 'mke2fs', 'sulogin', 'pam_extrausers_chkpwd', 'pam_extrausers_update', 'blockdev', 'unix_update', 'debugfs', 'swapon', 'sysctl', 'mkfs.ext3', 'swaplabel', 'isosize', 'agetty', 'e2fsck', 'swapoff', 'blkid', 'fstrim', 'mkswap', 'losetup', 'start-stop-daemon', 'shadowconfig', 'cfdisk', 'pivot_root', 'hwclock', 'e2undo', 'mkfs.ext4', 'ldconfig.real', 'resize2fs', 'mkfs.cramfs', 'ldconfig', 'blkdiscard', 'mkfs.minix', 'e2image', 'mkfs.bfs', 'badblocks', 'findfs', 'tune2fs', 'fdisk', 'installkernel', 'raw', 'fsfreeze', 'unix_chkpwd', 'mkfs', 'pam_tally2', 'initctl']\n",
            "lib\n",
            "['systemd', 'udev', 'terminfo', 'x86_64-linux-gnu', 'lsb', 'init', 'cpp']\n",
            "root\n",
            "['.profile', '.bashrc', '.ipython', '.forever', '.cache', '.config', '.local', '.node-gyp', '.npm', '.jupyter', '.tox', '.gsutil']\n",
            "usr\n",
            "['sbin', 'lib', 'src', 'share', 'bin', 'games', 'local', 'include', 'grte']\n",
            "bin\n",
            "['sh', 'sleep', 'pidof', 'cat', 'zcat', 'date', 'chown', 'umount', 'run-parts', 'chmod', 'login', 'which', 'znew', 'cp', 'ln', 'gunzip', 'sed', 'egrep', 'gzexe', 'domainname', 'true', 'nisdomainname', 'fgrep', 'pwd', 'df', 'tar', 'su', 'readlink', 'zless', 'touch', 'zcmp', 'uncompress', 'zforce', 'ls', 'dd', 'rmdir', 'zfgrep', 'mkdir', 'sh.distrib', 'sync', 'zgrep', 'chgrp', 'rm', 'mount', 'ypdomainname', 'more', 'mktemp', 'findmnt', 'hostname', 'kill', 'bash', 'uname', 'lsblk', 'mountpoint', 'dir', 'ps', 'false', 'wdctl', 'dash', 'zdiff', 'stty', 'rbash', 'tempfile', 'vdir', 'zmore', 'mknod', 'mv', 'echo', 'grep', 'dmesg', 'zegrep', 'gzip', 'dnsdomainname', 'bzgrep', 'bzless', 'bzfgrep', 'bzcat', 'bzcmp', 'bzip2recover', 'bzegrep', 'bzdiff', 'bzexe', 'bzip2', 'bzmore', 'bunzip2']\n",
            "opt\n",
            "['bin', 'google']\n",
            "dev\n",
            "['core', 'stderr', 'stdout', 'stdin', 'fd', 'ptmx', 'fuse', 'urandom', 'zero', 'tty', 'full', 'random', 'null', 'shm', 'mqueue', 'pts']\n",
            "boot\n",
            "[]\n",
            "sys\n",
            "['kernel', 'devices', 'power', 'class', 'dev', 'firmware', 'fs', 'bus', 'module', 'block']\n",
            "var\n",
            "['cache', 'lib', 'backups', 'spool', 'opt', 'mail', 'lock', 'run', 'log', 'local', 'tmp', 'colab']\n",
            "media\n",
            "[]\n",
            "srv\n",
            "[]\n",
            "proc\n",
            "['fs', 'bus', 'dma', 'irq', 'net', 'sys', 'tty', 'acpi', 'keys', 'kmsg', 'misc', 'mtrr', 'scsi', 'stat', 'iomem', 'kcore', 'locks', 'swaps', 'crypto', 'driver', 'mounts', 'uptime', 'vmstat', 'cgroups', 'cmdline', 'cpuinfo', 'devices', 'ioports', 'loadavg', 'meminfo', 'modules', 'sysvipc', 'version', 'consoles', 'kallsyms', 'slabinfo', 'softirqs', 'zoneinfo', 'buddyinfo', 'config.gz', 'diskstats', 'key-users', 'schedstat', 'interrupts', 'kpagecount', 'kpageflags', 'partitions', 'timer_list', 'execdomains', 'filesystems', 'kpagecgroup', 'vmallocinfo', 'pagetypeinfo', 'sysrq-trigger', 'self', 'thread-self', '1', '6', '16', '22', '29', '52']\n",
            "run\n",
            "['mount', 'lock', 'utmp', 'systemd']\n",
            "home\n",
            "[]\n",
            "lib64\n",
            "['ld-linux-x86-64.so.2']\n",
            "mnt\n",
            "[]\n",
            "tmp\n",
            "[]\n",
            "etc\n",
            "['alternatives', 'adduser.conf', 'shells', 'selinux', 'legal', 'dpkg', 'subuid', 'rc0.d', 'gshadow', 'group', 'systemd', 'lsb-release', 'logrotate.d', 'bash.bashrc', 'rcS.d', 'networks', 'sysctl.d', 'ld.so.cache', 'inputrc', 'issue.net', 'opt', 'localtime', 'securetty', 'host.conf', 'default', 'fstab', 'hosts', 'kernel', 'ld.so.conf.d', '.pwd.lock', 'debian_version', 'bindresvport.blacklist', 'deluser.conf', 'terminfo', 'passwd', 'rc6.d', 'cron.daily', 'init.d', 'rc3.d', 'pam.d', 'gai.conf', 'pam.conf', 'cron.weekly', 'rc1.d', 'ld.so.conf', 'profile', 'rc2.d', 'hostname', 'shadow', 'apt', 'os-release', 'sysctl.conf', 'mke2fs.conf', 'resolv.conf', 'debconf.conf', 'subgid', 'libaudit.conf', 'rmt', 'rc4.d', 'rc5.d', 'login.defs', 'security', 'X11', 'profile.d', 'issue', 'nsswitch.conf', 'update-motd.d', 'environment', 'skel', 'machine-id', 'mtab', 'timezone', 'locale.alias', 'pip.conf', 'python2.7', 'gss', 'mime.types', 'bash_completion.d', 'locale.gen', 'ipython', 'mailcap', 'ca-certificates.conf', 'ca-certificates', 'ssl', 'mailcap.order', 'jupyter', 'ldap', 'ucf.conf', 'python', 'ssh', 'fonts', 'python3', 'perl', 'python3.6', 'wgetrc', 'group-', 'gshadow-']\n",
            ".dockerenv\n",
            ".dockerenv is not a dir\n",
            "content\n",
            "['sample_data', '.config']\n",
            "colabtools\n",
            "['.gitignore', 'LICENSE', '.pytest_cache', 'MANIFEST.in', 'setup.cfg', 'google_colab.egg-info', '.travis.yml', 'tests', 'setup.py', 'README.md', '.tox', 'CONTRIBUTING.md', 'google', 'tox.ini', 'dist', 'cloudbuild']\n",
            "datalab\n",
            "['web', 'run.sh']\n",
            "tools\n",
            "['node', 'google-cloud-sdk']\n"
          ]
        }
      ],
      "source": [
        "for p in listdir('/'):\n",
        "  print(p)\n",
        "  fn = join('/', p)\n",
        "  if isdir(fn):\n",
        "    print(listdir(fn))\n",
        "  else:\n",
        "    print(\"{} is not a dir\".format(p))\n",
        "    "
      ]
    }
  ],
  "metadata": {
    "colab": {
      "collapsed_sections": [],
      "include_colab_link": true,
      "name": "module",
      "provenance": [],
      "version": "0.3.2"
    },
    "kernelspec": {
      "display_name": "Python 3.8.9 64-bit",
      "language": "python",
      "name": "python3"
    },
    "language_info": {
      "name": "python",
      "version": "3.8.9"
    },
    "vscode": {
      "interpreter": {
        "hash": "31f2aee4e71d21fbe5cf8b01ff0e069b9275f58929596ceb00d14d90e3e16cd6"
      }
    }
  },
  "nbformat": 4,
  "nbformat_minor": 0
}
