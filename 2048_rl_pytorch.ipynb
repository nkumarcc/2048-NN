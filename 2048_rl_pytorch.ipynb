{
 "cells": [
  {
   "cell_type": "markdown",
   "metadata": {},
   "source": [
    "### Imports"
   ]
  },
  {
   "cell_type": "code",
   "execution_count": 4,
   "metadata": {},
   "outputs": [],
   "source": [
    "from random import randint, shuffle, seed\n",
    "import sys\n",
    "from selenium import webdriver\n",
    "from selenium.webdriver.common.keys import Keys"
   ]
  },
  {
   "cell_type": "code",
   "execution_count": 5,
   "metadata": {},
   "outputs": [],
   "source": [
    "from IPython.display import clear_output"
   ]
  },
  {
   "cell_type": "code",
   "execution_count": 6,
   "metadata": {},
   "outputs": [],
   "source": [
    "from c2048 import Game, push"
   ]
  },
  {
   "cell_type": "code",
   "execution_count": 7,
   "metadata": {},
   "outputs": [],
   "source": [
    "import numpy as np"
   ]
  },
  {
   "cell_type": "markdown",
   "metadata": {},
   "source": [
    "### New PyTorch NN"
   ]
  },
  {
   "cell_type": "code",
   "execution_count": 8,
   "metadata": {},
   "outputs": [
    {
     "name": "stderr",
     "output_type": "stream",
     "text": [
      "/Users/nitin/opt/anaconda3/envs/2048/lib/python3.9/site-packages/tqdm/auto.py:22: TqdmWarning: IProgress not found. Please update jupyter and ipywidgets. See https://ipywidgets.readthedocs.io/en/stable/user_install.html\n",
      "  from .autonotebook import tqdm as notebook_tqdm\n"
     ]
    }
   ],
   "source": [
    "import torch\n",
    "import torch.nn as nn\n",
    "\n",
    "N_FILTERS = 512\n",
    "N_FILTERS_2 = 4096\n",
    "NUM_OPTIONS = 16\n",
    "\n",
    "class PlayerNet(nn.Module):\n",
    "    def __init__(self):\n",
    "        super(PlayerNet, self).__init__()\n",
    "\n",
    "        # Input size: (None, 16, 4, 4)\n",
    "        # (Num samples, hot encoding of value, height, width)\n",
    "\n",
    "        # 2D convolutional layers\n",
    "        # Input size: (None, 16, 4, 4)\n",
    "        self.conv_a = nn.Conv2d(in_channels=NUM_OPTIONS, out_channels=N_FILTERS, kernel_size=(2, 1), padding='valid')\n",
    "        # (None, N_FILTERS, 3, 4)\n",
    "        self.conv_b = nn.Conv2d(in_channels=NUM_OPTIONS, out_channels=N_FILTERS, kernel_size=(1, 2), padding='valid')\n",
    "        # (None, N_FILTERS, 4, 3)\n",
    "\n",
    "        self.conv_aa = nn.Conv2d(in_channels=N_FILTERS, out_channels=N_FILTERS_2, kernel_size=(2, 1), padding='valid')\n",
    "        # (None, N_FILTERS_2, 2, 4)\n",
    "        self.conv_ab = nn.Conv2d(in_channels=N_FILTERS, out_channels=N_FILTERS_2, kernel_size=(1, 2), padding='valid')\n",
    "        # (None, N_FILTERS_2, 3, 3)\n",
    "\n",
    "        self.conv_ba = nn.Conv2d(in_channels=N_FILTERS, out_channels=N_FILTERS_2, kernel_size=(2, 1), padding='valid')\n",
    "        # (None, N_FILTERS_2, 3, 3)\n",
    "        self.conv_bb = nn.Conv2d(in_channels=N_FILTERS, out_channels=N_FILTERS_2, kernel_size=(1, 2), padding='valid')\n",
    "        # (None, N_FILTERS_2, 4, 2)\n",
    "\n",
    "        # flatten the output of each convolutional layer\n",
    "        # Output sizes will be:\n",
    "        # - (Num Samples, N_FILTERS * 3 * 4) x 2\n",
    "        # - (Num Samples, N_FILTERS_2 * 3 * 3) x 2\n",
    "        # - (Num Samples, N_FILTERS_2 * 2 * 4) x 2\n",
    "        self.flatten = nn.Flatten()\n",
    "\n",
    "        # concatenation layer\n",
    "        # Not sure this is the right axis\n",
    "        # Output size will be:\n",
    "        # (Num Samples, N_FILTERS * 24 + N_FILTERS_2 * 34)\n",
    "\n",
    "        # dense layer\n",
    "        self.fc = nn.Linear(\n",
    "            in_features=N_FILTERS * 24 + N_FILTERS_2 * 34,\n",
    "            out_features=1\n",
    "        )\n",
    "\n",
    "        # Error is scaled MSE\n",
    "        self.loss_fn = nn.MSELoss()\n",
    "        self.loss_scale = torch.tensor([0.5])\n",
    "\n",
    "        # Adam optimizer\n",
    "        self.optimizer = torch.optim.Adam(self.parameters(), betas=(0.5, 0.999))\n",
    "\n",
    "    def forward(self, x):\n",
    "        conv_a = self.conv_a(x)\n",
    "        conv_b = self.conv_b(x)\n",
    "\n",
    "        conv_aa = self.conv_aa(conv_a)\n",
    "        conv_ab = self.conv_ab(conv_a)\n",
    "\n",
    "        conv_bb = self.conv_bb(conv_b)\n",
    "        conv_ba = self.conv_ba(conv_b)\n",
    "\n",
    "        # flatten the output of the convolutional layer\n",
    "        flattened_convs = [\n",
    "            self.flatten(z) for z in [conv_a, conv_b, conv_aa, conv_ab, conv_bb, conv_ba]\n",
    "        ]\n",
    "\n",
    "        concatenated = torch.cat(flattened_convs, axis=1)\n",
    "        final_out = self.fc(concatenated)\n",
    "\n",
    "        return final_out\n",
    "\n",
    "    def train_step(self, x, y, y_pred):\n",
    "        # Forward pass\n",
    "        # y_pred = self.forward(x)\n",
    "        # Using prediction from the forward pass\n",
    "        # being used to drive the game\n",
    "\n",
    "        # Compute loss\n",
    "        loss = self.loss_fn(y_pred, y)\n",
    "        loss = loss * self.loss_scale\n",
    "\n",
    "        # Backward pass\n",
    "        loss.backward()\n",
    "\n",
    "        # Update parameters\n",
    "        self.optimizer.step()\n",
    "\n",
    "        # Reset gradients\n",
    "        self.optimizer.zero_grad()\n",
    "\n",
    "        return loss"
   ]
  },
  {
   "cell_type": "code",
   "execution_count": 9,
   "metadata": {},
   "outputs": [],
   "source": [
    "player_net = PlayerNet()"
   ]
  },
  {
   "cell_type": "markdown",
   "metadata": {},
   "source": [
    "### Driver Functions (copied from original notebook)"
   ]
  },
  {
   "cell_type": "code",
   "execution_count": 10,
   "metadata": {},
   "outputs": [],
   "source": [
    "import numpy as np\n",
    "from random import randint\n",
    "\n",
    "table ={2**i:i for i in range(1,16)}\n",
    "table[0]=0\n",
    "def make_input(grid):\n",
    "    g0 = grid\n",
    "    r = np.zeros(shape=(16, 4, 4), dtype=float)\n",
    "    for i in range(4):\n",
    "        for j in range(4):\n",
    "            v = g0[i, j]\n",
    "            r[table[v],i, j]=1\n",
    "    return r"
   ]
  },
  {
   "cell_type": "code",
   "execution_count": 11,
   "metadata": {},
   "outputs": [],
   "source": [
    "from random import random, randint\n",
    "\n",
    "def get_grid(driver):\n",
    "    grid = np.zeros(shape=(4,4), dtype='uint16')\n",
    "    for x in driver.find_elements_by_class_name('tile'):\n",
    "        cl = x.get_attribute('class').split()\n",
    "        for t in cl:\n",
    "            if t.startswith('tile-position-'):\n",
    "                pos = int(t[14])-1, int(t[16])-1\n",
    "            elif t.startswith('tile-') and t[5].isdigit():\n",
    "                v = int(t[5:])\n",
    "        grid[pos[1], pos[0]] = v\n",
    "    return grid"
   ]
  },
  {
   "cell_type": "code",
   "execution_count": 12,
   "metadata": {},
   "outputs": [],
   "source": [
    "import matplotlib\n",
    "import matplotlib.pyplot as plt\n",
    "matplotlib.rcParams['figure.figsize'] = (12.0, 8.0)"
   ]
  },
  {
   "cell_type": "code",
   "execution_count": 27,
   "metadata": {},
   "outputs": [],
   "source": [
    "import math\n",
    "import time\n",
    "from collections import defaultdict\n",
    "  \n",
    "def Vchange(grid, v, prediction):\n",
    "    g0 = grid\n",
    "    g1 = torch.flip(g0, [1])\n",
    "    g2 = torch.flip(g0, [2])\n",
    "    g3 = torch.flip(g2, [1])\n",
    "    r0 = grid.swapaxes(1,2)\n",
    "    r1 = torch.flip(r0, [1])\n",
    "    r2 = torch.flip(r0, [2])\n",
    "    r3 = torch.flip(r2, [1])\n",
    "\n",
    "    try:\n",
    "        x_train = torch.cat([g0,g1,g2,g3,r0,r1,r2,r3], dim=0)\n",
    "        y_train = torch.cat([v]*8, dim=0)\n",
    "        y_pred = torch.cat([prediction]*8, dim=0)\n",
    "    except:\n",
    "        print('Error and great spot for a breakpoint!')\n",
    "        return\n",
    "    player_net.train_step(x_train, y_train, y_pred)\n",
    "\n",
    "arrow=[Keys.ARROW_LEFT, Keys.ARROW_UP, Keys.ARROW_RIGHT, Keys.ARROW_DOWN]\n",
    "def gen_sample_and_learn(driver, use_webdriver=False):\n",
    "    game_len = 0\n",
    "    game_score = 0\n",
    "    last_grid = None\n",
    "    grid_array = None\n",
    "    simulated_game = Game()\n",
    "\n",
    "    body = driver.find_element_by_tag_name('body') if use_webdriver else None\n",
    "    keep_playing =False\n",
    "\n",
    "    while True:\n",
    "\n",
    "        if use_webdriver:\n",
    "            try:\n",
    "                grid_array = get_grid(driver)\n",
    "            except:\n",
    "                grid_array = None\n",
    "\n",
    "            try:\n",
    "                game_message = driver.find_element_by_class_name('game-message')\n",
    "                retry_button = driver.find_element_by_class_name('retry-button')\n",
    "                if game_message.value_of_css_property('display') != 'none' and \\\n",
    "                    retry_button.value_of_css_property('display') != 'none':\n",
    "                    break\n",
    "            except:\n",
    "                pass\n",
    "        else:\n",
    "            grid_array = simulated_game.grid\n",
    "\n",
    "        board_list = []\n",
    "        if grid_array is not None:\n",
    "            if use_webdriver and not keep_playing and grid_array.max()==2048:\n",
    "                driver.find_element_by_class_name('keep-playing-button').click()\n",
    "                keep_playing = True\n",
    "                time.sleep(1)\n",
    "            for m in range(4):\n",
    "                g = grid_array.copy()\n",
    "                s = push(g, m%4)\n",
    "                if s >= 0:\n",
    "                    board_list.append( (g, m, s) )\n",
    "        if board_list:\n",
    "            boards = torch.tensor(\n",
    "                np.array(\n",
    "                    [make_input(g) for g,m,s in board_list], \n",
    "                    dtype=float\n",
    "                ),\n",
    "                dtype=torch.float32,\n",
    "            )\n",
    "            p = player_net.forward(boards)\n",
    "            game_len+=1\n",
    "            best_move = -1\n",
    "            best_v = None\n",
    "            best_prediction = None\n",
    "            for i, (g,m,s) in enumerate(board_list):\n",
    "                v = 2*s + p[i]\n",
    "                if best_v is None or v > best_v:\n",
    "                    best_v = v\n",
    "                    best_move = m\n",
    "                    best_score = 2*s\n",
    "                    best_prediction = p[i]\n",
    "                    best_grid = boards[i]\n",
    "            if use_webdriver:\n",
    "                body.send_keys(arrow[best_move])\n",
    "            else:\n",
    "                simulated_game.move(best_move)\n",
    "            game_score += best_score\n",
    "        else:\n",
    "            best_v = torch.Tensor([0])\n",
    "            best_grid = None\n",
    "        if last_grid is not None:\n",
    "            Vchange(last_grid, best_v, best_prediction)       \n",
    "        last_grid = best_grid\n",
    "        if not board_list:\n",
    "            break\n",
    "        plt.pause(0.05)\n",
    "    return game_len, grid_array.max(), game_score"
   ]
  },
  {
   "cell_type": "code",
   "execution_count": 28,
   "metadata": {},
   "outputs": [
    {
     "data": {
      "image/png": "[encoded data removed]",
      "text/plain": [
       "<Figure size 1200x800 with 1 Axes>"
      ]
     },
     "metadata": {},
     "output_type": "display_data"
    },
    {
     "ename": "RuntimeError",
     "evalue": "Trying to backward through the graph a second time (or directly access saved tensors after they have already been freed). Saved intermediate values of the graph are freed when you call .backward() or autograd.grad(). Specify retain_graph=True if you need to backward through the graph a second time or if you need to access saved tensors after calling backward.",
     "output_type": "error",
     "traceback": [
      "\u001b[0;31m---------------------------------------------------------------------------\u001b[0m",
      "\u001b[0;31mRuntimeError\u001b[0m                              Traceback (most recent call last)",
      "Cell \u001b[0;32mIn [28], line 13\u001b[0m\n\u001b[1;32m     10\u001b[0m \u001b[39mfor\u001b[39;00m j \u001b[39min\u001b[39;00m \u001b[39mrange\u001b[39m(\u001b[39m200\u001b[39m):\n\u001b[1;32m     11\u001b[0m     \u001b[39m# driver.get(\"https://gabrielecirulli.github.io/2048/\")\u001b[39;00m\n\u001b[1;32m     12\u001b[0m     time\u001b[39m.\u001b[39msleep(\u001b[39m2\u001b[39m)\n\u001b[0;32m---> 13\u001b[0m     result \u001b[39m=\u001b[39m gen_sample_and_learn(driver)\n\u001b[1;32m     14\u001b[0m     \u001b[39mprint\u001b[39m(j, result)\n\u001b[1;32m     15\u001b[0m     results\u001b[39m.\u001b[39mappend(result)\n",
      "Cell \u001b[0;32mIn [27], line 95\u001b[0m, in \u001b[0;36mgen_sample_and_learn\u001b[0;34m(driver, use_webdriver)\u001b[0m\n\u001b[1;32m     93\u001b[0m     best_grid \u001b[39m=\u001b[39m \u001b[39mNone\u001b[39;00m\n\u001b[1;32m     94\u001b[0m \u001b[39mif\u001b[39;00m last_grid \u001b[39mis\u001b[39;00m \u001b[39mnot\u001b[39;00m \u001b[39mNone\u001b[39;00m:\n\u001b[0;32m---> 95\u001b[0m     Vchange(last_grid, best_v, best_prediction)       \n\u001b[1;32m     96\u001b[0m last_grid \u001b[39m=\u001b[39m best_grid\n\u001b[1;32m     97\u001b[0m \u001b[39mif\u001b[39;00m \u001b[39mnot\u001b[39;00m board_list:\n",
      "Cell \u001b[0;32mIn [27], line 22\u001b[0m, in \u001b[0;36mVchange\u001b[0;34m(grid, v, prediction)\u001b[0m\n\u001b[1;32m     20\u001b[0m     \u001b[39mprint\u001b[39m(\u001b[39m'\u001b[39m\u001b[39mError and great spot for a breakpoint!\u001b[39m\u001b[39m'\u001b[39m)\n\u001b[1;32m     21\u001b[0m     \u001b[39mreturn\u001b[39;00m\n\u001b[0;32m---> 22\u001b[0m player_net\u001b[39m.\u001b[39;49mtrain_step(x_train, y_train, y_pred)\n",
      "Cell \u001b[0;32mIn [8], line 88\u001b[0m, in \u001b[0;36mPlayerNet.train_step\u001b[0;34m(self, x, y, y_pred)\u001b[0m\n\u001b[1;32m     85\u001b[0m loss \u001b[39m=\u001b[39m loss \u001b[39m*\u001b[39m \u001b[39mself\u001b[39m\u001b[39m.\u001b[39mloss_scale\n\u001b[1;32m     87\u001b[0m \u001b[39m# Backward pass\u001b[39;00m\n\u001b[0;32m---> 88\u001b[0m loss\u001b[39m.\u001b[39;49mbackward()\n\u001b[1;32m     90\u001b[0m \u001b[39m# Update parameters\u001b[39;00m\n\u001b[1;32m     91\u001b[0m \u001b[39mself\u001b[39m\u001b[39m.\u001b[39moptimizer\u001b[39m.\u001b[39mstep()\n",
      "File \u001b[0;32m~/opt/anaconda3/envs/2048/lib/python3.9/site-packages/torch/_tensor.py:396\u001b[0m, in \u001b[0;36mTensor.backward\u001b[0;34m(self, gradient, retain_graph, create_graph, inputs)\u001b[0m\n\u001b[1;32m    387\u001b[0m \u001b[39mif\u001b[39;00m has_torch_function_unary(\u001b[39mself\u001b[39m):\n\u001b[1;32m    388\u001b[0m     \u001b[39mreturn\u001b[39;00m handle_torch_function(\n\u001b[1;32m    389\u001b[0m         Tensor\u001b[39m.\u001b[39mbackward,\n\u001b[1;32m    390\u001b[0m         (\u001b[39mself\u001b[39m,),\n\u001b[0;32m   (...)\u001b[0m\n\u001b[1;32m    394\u001b[0m         create_graph\u001b[39m=\u001b[39mcreate_graph,\n\u001b[1;32m    395\u001b[0m         inputs\u001b[39m=\u001b[39minputs)\n\u001b[0;32m--> 396\u001b[0m torch\u001b[39m.\u001b[39;49mautograd\u001b[39m.\u001b[39;49mbackward(\u001b[39mself\u001b[39;49m, gradient, retain_graph, create_graph, inputs\u001b[39m=\u001b[39;49minputs)\n",
      "File \u001b[0;32m~/opt/anaconda3/envs/2048/lib/python3.9/site-packages/torch/autograd/__init__.py:173\u001b[0m, in \u001b[0;36mbackward\u001b[0;34m(tensors, grad_tensors, retain_graph, create_graph, grad_variables, inputs)\u001b[0m\n\u001b[1;32m    168\u001b[0m     retain_graph \u001b[39m=\u001b[39m create_graph\n\u001b[1;32m    170\u001b[0m \u001b[39m# The reason we repeat same the comment below is that\u001b[39;00m\n\u001b[1;32m    171\u001b[0m \u001b[39m# some Python versions print out the first line of a multi-line function\u001b[39;00m\n\u001b[1;32m    172\u001b[0m \u001b[39m# calls in the traceback and some print out the last line\u001b[39;00m\n\u001b[0;32m--> 173\u001b[0m Variable\u001b[39m.\u001b[39;49m_execution_engine\u001b[39m.\u001b[39;49mrun_backward(  \u001b[39m# Calls into the C++ engine to run the backward pass\u001b[39;49;00m\n\u001b[1;32m    174\u001b[0m     tensors, grad_tensors_, retain_graph, create_graph, inputs,\n\u001b[1;32m    175\u001b[0m     allow_unreachable\u001b[39m=\u001b[39;49m\u001b[39mTrue\u001b[39;49;00m, accumulate_grad\u001b[39m=\u001b[39;49m\u001b[39mTrue\u001b[39;49;00m)\n",
      "\u001b[0;31mRuntimeError\u001b[0m: Trying to backward through the graph a second time (or directly access saved tensors after they have already been freed). Saved intermediate values of the graph are freed when you call .backward() or autograd.grad(). Specify retain_graph=True if you need to backward through the graph a second time or if you need to access saved tensors after calling backward."
     ]
    }
   ],
   "source": [
    "results = []\n",
    "driver = webdriver.Firefox(executable_path='/Users/nitin/drivers/geckodriver')\n",
    "driver = None\n",
    "graph = plt.plot([], [], 'b')[0]\n",
    "dots256 = plt.plot([],[], 'ro')[0]\n",
    "dots512 = plt.plot([],[], 'yo')[0]\n",
    "dots1024 = plt.plot([],[], 'go')[0]\n",
    "plt.xlim((0,100))\n",
    "plt.ylim((0,25000))\n",
    "for j in range(200):\n",
    "    # driver.get(\"https://gabrielecirulli.github.io/2048/\")\n",
    "    time.sleep(2)\n",
    "    result = gen_sample_and_learn(driver)\n",
    "    print(j, result)\n",
    "    results.append(result)\n",
    "    graph.set_data(np.arange(len(results)), np.array(results)[:, 2])\n",
    "    dots_data =[[],[],[]]\n",
    "    for i, d in enumerate(results):\n",
    "        c = 0 if d[1]<=256 else (1 if d[1]==512 else 2)\n",
    "        dots_data[c].append([i, d[2]])\n",
    "    dots_graph = [dots256, dots512, dots1024]\n",
    "    for i in range(3):\n",
    "        if dots_data[i]:\n",
    "            xy = np.array(dots_data[i])\n",
    "            dots_graph[i].set_data(xy[:, 0], xy[:,1])\n",
    "    plt.title(\"Game #%d\"%j, fontsize=64)\n",
    "    plt.draw()\n",
    "    plt.pause(3)\n",
    "    if result[1] >= 2048:\n",
    "        break"
   ]
  },
  {
   "cell_type": "code",
   "execution_count": null,
   "metadata": {},
   "outputs": [],
   "source": []
  }
 ],
 "metadata": {
  "kernelspec": {
   "display_name": "Python 3.9.15 ('2048')",
   "language": "python",
   "name": "python3"
  },
  "language_info": {
   "codemirror_mode": {
    "name": "ipython",
    "version": 3
   },
   "file_extension": ".py",
   "mimetype": "text/x-python",
   "name": "python",
   "nbconvert_exporter": "python",
   "pygments_lexer": "ipython3",
   "version": "3.9.15"
  },
  "orig_nbformat": 4,
  "vscode": {
   "interpreter": {
    "hash": "2f65944d21d5f5bd067ab678ef3438c0814d3eb8e2c6637b3a7e86903e838434"
   }
  }
 },
 "nbformat": 4,
 "nbformat_minor": 2
}
