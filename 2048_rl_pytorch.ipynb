{
  "cells": [
    {
      "cell_type": "markdown",
      "metadata": {
        "id": "view-in-github",
        "colab_type": "text"
      },
      "source": [
        "<a href=\"https://colab.research.google.com/github/nkumarcc/2048-NN/blob/master/2048_rl_pytorch.ipynb\" target=\"_parent\"><img src=\"https://colab.research.google.com/assets/colab-badge.svg\" alt=\"Open In Colab\"/></a>"
      ]
    },
    {
      "cell_type": "markdown",
      "metadata": {
        "id": "1eG48QBgXQp3"
      },
      "source": [
        "### Imports"
      ]
    },
    {
      "cell_type": "code",
      "source": [
        "\n",
        "!pip install selenium"
      ],
      "metadata": {
        "colab": {
          "base_uri": "https://localhost:8080/"
        },
        "id": "abeavLszXrIo",
        "outputId": "6e5c02d6-2da5-4d2f-a94d-6f53a69c5fce"
      },
      "execution_count": 1,
      "outputs": [
        {
          "output_type": "stream",
          "name": "stdout",
          "text": [
            "Looking in indexes: https://pypi.org/simple, https://us-python.pkg.dev/colab-wheels/public/simple/\n",
            "Collecting selenium\n",
            "  Downloading selenium-4.8.2-py3-none-any.whl (6.9 MB)\n",
            "\u001b[2K     \u001b[90m━━━━━━━━━━━━━━━━━━━━━━━━━━━━━━━━━━━━━━━━\u001b[0m \u001b[32m6.9/6.9 MB\u001b[0m \u001b[31m58.7 MB/s\u001b[0m eta \u001b[36m0:00:00\u001b[0m\n",
            "\u001b[?25hRequirement already satisfied: certifi>=2021.10.8 in /usr/local/lib/python3.8/dist-packages (from selenium) (2022.12.7)\n",
            "Collecting trio~=0.17\n",
            "  Downloading trio-0.22.0-py3-none-any.whl (384 kB)\n",
            "\u001b[2K     \u001b[90m━━━━━━━━━━━━━━━━━━━━━━━━━━━━━━━━━━━━━━\u001b[0m \u001b[32m384.9/384.9 KB\u001b[0m \u001b[31m23.7 MB/s\u001b[0m eta \u001b[36m0:00:00\u001b[0m\n",
            "\u001b[?25hCollecting trio-websocket~=0.9\n",
            "  Downloading trio_websocket-0.9.2-py3-none-any.whl (16 kB)\n",
            "Collecting urllib3[socks]~=1.26\n",
            "  Downloading urllib3-1.26.14-py2.py3-none-any.whl (140 kB)\n",
            "\u001b[2K     \u001b[90m━━━━━━━━━━━━━━━━━━━━━━━━━━━━━━━━━━━━━━\u001b[0m \u001b[32m140.6/140.6 KB\u001b[0m \u001b[31m11.8 MB/s\u001b[0m eta \u001b[36m0:00:00\u001b[0m\n",
            "\u001b[?25hCollecting outcome\n",
            "  Downloading outcome-1.2.0-py2.py3-none-any.whl (9.7 kB)\n",
            "Collecting sniffio\n",
            "  Downloading sniffio-1.3.0-py3-none-any.whl (10 kB)\n",
            "Requirement already satisfied: idna in /usr/local/lib/python3.8/dist-packages (from trio~=0.17->selenium) (2.10)\n",
            "Requirement already satisfied: attrs>=19.2.0 in /usr/local/lib/python3.8/dist-packages (from trio~=0.17->selenium) (22.2.0)\n",
            "Collecting async-generator>=1.9\n",
            "  Downloading async_generator-1.10-py3-none-any.whl (18 kB)\n",
            "Collecting exceptiongroup>=1.0.0rc9\n",
            "  Downloading exceptiongroup-1.1.0-py3-none-any.whl (14 kB)\n",
            "Requirement already satisfied: sortedcontainers in /usr/local/lib/python3.8/dist-packages (from trio~=0.17->selenium) (2.4.0)\n",
            "Collecting wsproto>=0.14\n",
            "  Downloading wsproto-1.2.0-py3-none-any.whl (24 kB)\n",
            "Requirement already satisfied: PySocks!=1.5.7,<2.0,>=1.5.6 in /usr/local/lib/python3.8/dist-packages (from urllib3[socks]~=1.26->selenium) (1.7.1)\n",
            "Collecting h11<1,>=0.9.0\n",
            "  Downloading h11-0.14.0-py3-none-any.whl (58 kB)\n",
            "\u001b[2K     \u001b[90m━━━━━━━━━━━━━━━━━━━━━━━━━━━━━━━━━━━━━━━━\u001b[0m \u001b[32m58.3/58.3 KB\u001b[0m \u001b[31m1.8 MB/s\u001b[0m eta \u001b[36m0:00:00\u001b[0m\n",
            "\u001b[?25hInstalling collected packages: urllib3, sniffio, outcome, h11, exceptiongroup, async-generator, wsproto, trio, trio-websocket, selenium\n",
            "  Attempting uninstall: urllib3\n",
            "    Found existing installation: urllib3 1.24.3\n",
            "    Uninstalling urllib3-1.24.3:\n",
            "      Successfully uninstalled urllib3-1.24.3\n",
            "Successfully installed async-generator-1.10 exceptiongroup-1.1.0 h11-0.14.0 outcome-1.2.0 selenium-4.8.2 sniffio-1.3.0 trio-0.22.0 trio-websocket-0.9.2 urllib3-1.26.14 wsproto-1.2.0\n"
          ]
        }
      ]
    },
    {
      "cell_type": "code",
      "execution_count": 2,
      "metadata": {
        "id": "i0nL0gU4XQp4"
      },
      "outputs": [],
      "source": [
        "from random import randint, shuffle, seed\n",
        "import sys\n",
        "from selenium import webdriver\n",
        "from selenium.webdriver.common.keys import Keys"
      ]
    },
    {
      "cell_type": "code",
      "execution_count": 3,
      "metadata": {
        "id": "xgu72JbyXQp5"
      },
      "outputs": [],
      "source": [
        "from IPython.display import clear_output"
      ]
    },
    {
      "cell_type": "code",
      "source": [
        "!wget https://raw.githubusercontent.com/nkumarcc/2048-NN/master/c2048.py"
      ],
      "metadata": {
        "colab": {
          "base_uri": "https://localhost:8080/"
        },
        "id": "cWWgYLFMYOcy",
        "outputId": "dfc24595-3c75-48cb-cf8b-b733fd618270"
      },
      "execution_count": 4,
      "outputs": [
        {
          "output_type": "stream",
          "name": "stdout",
          "text": [
            "--2023-02-24 03:23:20--  https://raw.githubusercontent.com/nkumarcc/2048-NN/master/c2048.py\n",
            "Resolving raw.githubusercontent.com (raw.githubusercontent.com)... 185.199.110.133, 185.199.109.133, 185.199.111.133, ...\n",
            "Connecting to raw.githubusercontent.com (raw.githubusercontent.com)|185.199.110.133|:443... connected.\n",
            "HTTP request sent, awaiting response... 200 OK\n",
            "Length: 5949 (5.8K) [text/plain]\n",
            "Saving to: ‘c2048.py’\n",
            "\n",
            "c2048.py            100%[===================>]   5.81K  --.-KB/s    in 0s      \n",
            "\n",
            "2023-02-24 03:23:20 (77.5 MB/s) - ‘c2048.py’ saved [5949/5949]\n",
            "\n"
          ]
        }
      ]
    },
    {
      "cell_type": "code",
      "execution_count": 5,
      "metadata": {
        "id": "6jrt0tAcXQp5"
      },
      "outputs": [],
      "source": [
        "from c2048 import Game, push"
      ]
    },
    {
      "cell_type": "code",
      "execution_count": 6,
      "metadata": {
        "id": "Dcx46os_XQp5"
      },
      "outputs": [],
      "source": [
        "import numpy as np"
      ]
    },
    {
      "cell_type": "markdown",
      "metadata": {
        "id": "w_7G2lKjXQp6"
      },
      "source": [
        "### New PyTorch NN"
      ]
    },
    {
      "cell_type": "code",
      "source": [
        "import torch\n",
        "\n",
        "device = torch.device(\"cuda\" if torch.cuda.is_available() else \"cpu\")\n",
        "\n",
        "print(device)"
      ],
      "metadata": {
        "colab": {
          "base_uri": "https://localhost:8080/"
        },
        "id": "PxZV3cvubQDr",
        "outputId": "ba3c9dfd-2f4a-4784-9efc-486695267139"
      },
      "execution_count": 7,
      "outputs": [
        {
          "output_type": "stream",
          "name": "stdout",
          "text": [
            "cuda\n"
          ]
        }
      ]
    },
    {
      "cell_type": "code",
      "execution_count": 22,
      "metadata": {
        "id": "MMHEemUgXQp6"
      },
      "outputs": [],
      "source": [
        "import torch\n",
        "import torch.nn as nn\n",
        "\n",
        "N_FILTERS = 512\n",
        "N_FILTERS_2 = 4096\n",
        "NUM_OPTIONS = 16\n",
        "\n",
        "class PlayerNet(nn.Module):\n",
        "    def __init__(self):\n",
        "        super(PlayerNet, self).__init__()\n",
        "\n",
        "        # Input size: (None, 16, 4, 4)\n",
        "        # (Num samples, hot encoding of value, height, width)\n",
        "\n",
        "        # 2D convolutional layers\n",
        "        # Input size: (None, 16, 4, 4)\n",
        "        self.conv_a = nn.Conv2d(in_channels=NUM_OPTIONS, out_channels=N_FILTERS, kernel_size=(2, 1), padding='valid')\n",
        "        # (None, N_FILTERS, 3, 4)\n",
        "        self.conv_b = nn.Conv2d(in_channels=NUM_OPTIONS, out_channels=N_FILTERS, kernel_size=(1, 2), padding='valid')\n",
        "        # (None, N_FILTERS, 4, 3)\n",
        "\n",
        "        self.conv_aa = nn.Conv2d(in_channels=N_FILTERS, out_channels=N_FILTERS_2, kernel_size=(2, 1), padding='valid')\n",
        "        # (None, N_FILTERS_2, 2, 4)\n",
        "        self.conv_ab = nn.Conv2d(in_channels=N_FILTERS, out_channels=N_FILTERS_2, kernel_size=(1, 2), padding='valid')\n",
        "        # (None, N_FILTERS_2, 3, 3)\n",
        "\n",
        "        self.conv_ba = nn.Conv2d(in_channels=N_FILTERS, out_channels=N_FILTERS_2, kernel_size=(2, 1), padding='valid')\n",
        "        # (None, N_FILTERS_2, 3, 3)\n",
        "        self.conv_bb = nn.Conv2d(in_channels=N_FILTERS, out_channels=N_FILTERS_2, kernel_size=(1, 2), padding='valid')\n",
        "        # (None, N_FILTERS_2, 4, 2)\n",
        "\n",
        "        # flatten the output of each convolutional layer\n",
        "        # Output sizes will be:\n",
        "        # - (Num Samples, N_FILTERS * 3 * 4) x 2\n",
        "        # - (Num Samples, N_FILTERS_2 * 3 * 3) x 2\n",
        "        # - (Num Samples, N_FILTERS_2 * 2 * 4) x 2\n",
        "        self.flatten = nn.Flatten()\n",
        "\n",
        "        # concatenation layer\n",
        "        # Not sure this is the right axis\n",
        "        # Output size will be:\n",
        "        # (Num Samples, N_FILTERS * 24 + N_FILTERS_2 * 34)\n",
        "\n",
        "        # dense layer\n",
        "        self.fc = nn.Linear(\n",
        "            in_features=N_FILTERS * 24 + N_FILTERS_2 * 34,\n",
        "            out_features=1\n",
        "        )\n",
        "        self.fc.activation = nn.Identity()\n",
        "\n",
        "        # Error is scaled MSE\n",
        "        self.loss_fn = nn.MSELoss()\n",
        "        self.loss_scale = torch.tensor([0.5]).to(device)\n",
        "\n",
        "        # Adam optimizer\n",
        "        self.optimizer = torch.optim.Adam(self.parameters(), betas=(0.5, 0.999))\n",
        "\n",
        "    def forward(self, x):\n",
        "        conv_a = self.conv_a(x)\n",
        "        conv_b = self.conv_b(x)\n",
        "\n",
        "        conv_aa = self.conv_aa(conv_a)\n",
        "        conv_ab = self.conv_ab(conv_a)\n",
        "\n",
        "        conv_bb = self.conv_bb(conv_b)\n",
        "        conv_ba = self.conv_ba(conv_b)\n",
        "\n",
        "        # flatten the output of the convolutional layer\n",
        "        flattened_convs = [\n",
        "            self.flatten(z) for z in [conv_a, conv_b, conv_aa, conv_ab, conv_bb, conv_ba]\n",
        "        ]\n",
        "\n",
        "        concatenated = torch.cat(flattened_convs, axis=1)\n",
        "        final_out = self.fc(concatenated)\n",
        "\n",
        "        return final_out\n",
        "\n",
        "    def train_step(self, x, y, y_pred):\n",
        "        # Forward pass\n",
        "        # y_pred = self.forward(x)\n",
        "        # Using prediction from the forward pass\n",
        "        # being used to drive the game\n",
        "\n",
        "        # Compute loss\n",
        "        loss = self.loss_fn(y_pred, y)\n",
        "        loss = loss * self.loss_scale\n",
        "\n",
        "        # Backward pass\n",
        "        loss.backward()\n",
        "\n",
        "        # Update parameters\n",
        "        self.optimizer.step()\n",
        "\n",
        "        # Reset gradients\n",
        "        self.optimizer.zero_grad()\n",
        "\n",
        "        return loss"
      ]
    },
    {
      "cell_type": "code",
      "execution_count": 23,
      "metadata": {
        "id": "BHYLrJawXQp7"
      },
      "outputs": [],
      "source": [
        "player_net = PlayerNet().to(device)"
      ]
    },
    {
      "cell_type": "markdown",
      "metadata": {
        "id": "wbzRExdrXQp8"
      },
      "source": [
        "### Driver Functions (copied from original notebook)"
      ]
    },
    {
      "cell_type": "code",
      "execution_count": 24,
      "metadata": {
        "id": "QOiRTNmdXQp8"
      },
      "outputs": [],
      "source": [
        "import numpy as np\n",
        "from random import randint\n",
        "\n",
        "table ={2**i:i for i in range(1,16)}\n",
        "table[0]=0\n",
        "def make_input(grid):\n",
        "    g0 = grid\n",
        "    r = np.zeros(shape=(16, 4, 4), dtype=float)\n",
        "    for i in range(4):\n",
        "        for j in range(4):\n",
        "            v = g0[i, j]\n",
        "            r[table[v],i, j]=1\n",
        "    return r"
      ]
    },
    {
      "cell_type": "code",
      "execution_count": 44,
      "metadata": {
        "id": "IH3ysdVWXQp8"
      },
      "outputs": [],
      "source": [
        "from random import random, randint\n",
        "\n",
        "def get_grid(driver):\n",
        "    grid = np.zeros(shape=(4,4), dtype='uint16')\n",
        "    for x in driver.find_elements(By.CLASS_NAME, 'tile'):\n",
        "        cl = x.get_attribute('class').split()\n",
        "        for t in cl:\n",
        "            if t.startswith('tile-position-'):\n",
        "                pos = int(t[14])-1, int(t[16])-1\n",
        "            elif t.startswith('tile-') and t[5].isdigit():\n",
        "                v = int(t[5:])\n",
        "        grid[pos[1], pos[0]] = v\n",
        "    return grid"
      ]
    },
    {
      "cell_type": "code",
      "execution_count": 26,
      "metadata": {
        "id": "NKiydiYQXQp8"
      },
      "outputs": [],
      "source": [
        "import matplotlib\n",
        "import matplotlib.pyplot as plt\n",
        "matplotlib.rcParams['figure.figsize'] = (12.0, 8.0)"
      ]
    },
    {
      "cell_type": "code",
      "execution_count": 47,
      "metadata": {
        "id": "VAHSFxR1XQp8"
      },
      "outputs": [],
      "source": [
        "import math\n",
        "import time\n",
        "from collections import defaultdict\n",
        "from selenium.webdriver.common.by import By\n",
        "  \n",
        "def Vchange(grid, v, prediction):\n",
        "    g0 = grid\n",
        "    g1 = torch.flip(g0, [1])\n",
        "    g2 = torch.flip(g0, [2])\n",
        "    g3 = torch.flip(g2, [1])\n",
        "    r0 = grid.swapaxes(1,2)\n",
        "    r1 = torch.flip(r0, [1])\n",
        "    r2 = torch.flip(r0, [2])\n",
        "    r3 = torch.flip(r2, [1])\n",
        "\n",
        "    try:\n",
        "        x_train = torch.cat([g0,g1,g2,g3,r0,r1,r2,r3], dim=0)\n",
        "        y_train = torch.cat([v]*8, dim=0)\n",
        "        y_pred = torch.cat([prediction]*8, dim=0)\n",
        "    except:\n",
        "        print('Error and great spot for a breakpoint!')\n",
        "        return\n",
        "    player_net.train_step(x_train, y_train, y_pred)\n",
        "\n",
        "arrow=[Keys.ARROW_LEFT, Keys.ARROW_UP, Keys.ARROW_RIGHT, Keys.ARROW_DOWN]\n",
        "def gen_sample_and_learn(driver, use_webdriver=False):\n",
        "    game_len = 0\n",
        "    game_score = 0\n",
        "    last_grid = None\n",
        "    grid_array = None\n",
        "    simulated_game = Game()\n",
        "\n",
        "    body = driver.find_element(By.TAG_NAME, 'body') if use_webdriver else None\n",
        "    keep_playing =False\n",
        "\n",
        "    while True:\n",
        "\n",
        "        if use_webdriver:\n",
        "            try:\n",
        "                grid_array = get_grid(driver)\n",
        "            except:\n",
        "                grid_array = None\n",
        "\n",
        "            try:\n",
        "                game_message = driver.find_element(By.CLASS_NAME, 'game-message')\n",
        "                retry_button = driver.find_element(By.CLASS_NAME, 'retry-button')\n",
        "                if game_message.value_of_css_property('display') != 'none' and \\\n",
        "                    retry_button.value_of_css_property('display') != 'none':\n",
        "                    break\n",
        "            except:\n",
        "                pass\n",
        "        else:\n",
        "            grid_array = simulated_game.grid\n",
        "\n",
        "        board_list = []\n",
        "        # pdb.set_trace()\n",
        "        if grid_array is not None:\n",
        "            if use_webdriver and not keep_playing and grid_array.max()==2048:\n",
        "                driver.find_element(By.CLASS_NAME, 'keep-playing-button').click()\n",
        "                keep_playing = True\n",
        "                time.sleep(1)\n",
        "            for m in range(4):\n",
        "                g = grid_array.copy()\n",
        "                s = push(g, m%4)\n",
        "                if s >= 0:\n",
        "                    board_list.append( (g, m, s) )\n",
        "        if board_list:\n",
        "            boards = torch.tensor(\n",
        "                np.array(\n",
        "                    [make_input(g) for g,m,s in board_list], \n",
        "                    dtype=float\n",
        "                ),\n",
        "                dtype=torch.float32,\n",
        "            ).to(device)\n",
        "            p = player_net.forward(boards)\n",
        "            game_len+=1\n",
        "            best_move = -1\n",
        "            best_v = None\n",
        "            best_prediction = None\n",
        "            for i, (g,m,s) in enumerate(board_list):\n",
        "                v = 2*s + p[i]\n",
        "                if best_v is None or v > best_v:\n",
        "                    best_v = v\n",
        "                    best_move = m\n",
        "                    best_score = 2*s\n",
        "                    best_prediction = p[i]\n",
        "                    best_grid = boards[i]\n",
        "            if use_webdriver:\n",
        "                body.send_keys(arrow[best_move])\n",
        "            else:\n",
        "                simulated_game.move(best_move)\n",
        "            game_score += best_score\n",
        "        else:\n",
        "            best_v = torch.Tensor([0]).to(device)\n",
        "            best_grid = None\n",
        "        if last_grid is not None and best_grid is not None:\n",
        "            Vchange(last_grid, best_v, best_prediction)       \n",
        "        last_grid = best_grid\n",
        "        if not board_list:\n",
        "            break\n",
        "        plt.pause(0.05)\n",
        "    return game_len, grid_array.max(), game_score"
      ]
    },
    {
      "cell_type": "code",
      "source": [
        "!apt-get update\n",
        "!apt install firefox-geckodriver"
      ],
      "metadata": {
        "colab": {
          "base_uri": "https://localhost:8080/"
        },
        "id": "vdIE9oLhnP0f",
        "outputId": "c871e1e1-15af-4ddb-e5af-035a4e8145f2"
      },
      "execution_count": 40,
      "outputs": [
        {
          "output_type": "stream",
          "name": "stdout",
          "text": [
            "Hit:1 https://cloud.r-project.org/bin/linux/ubuntu focal-cran40/ InRelease\n",
            "Ign:2 https://developer.download.nvidia.com/compute/machine-learning/repos/ubuntu2004/x86_64  InRelease\n",
            "Hit:3 https://developer.download.nvidia.com/compute/cuda/repos/ubuntu2004/x86_64  InRelease\n",
            "Hit:4 https://developer.download.nvidia.com/compute/machine-learning/repos/ubuntu2004/x86_64  Release\n",
            "Get:6 http://security.ubuntu.com/ubuntu focal-security InRelease [114 kB]\n",
            "Hit:7 http://archive.ubuntu.com/ubuntu focal InRelease\n",
            "Hit:8 http://ppa.launchpad.net/c2d4u.team/c2d4u4.0+/ubuntu focal InRelease\n",
            "Get:9 http://archive.ubuntu.com/ubuntu focal-updates InRelease [114 kB]\n",
            "Hit:10 http://ppa.launchpad.net/cran/libgit2/ubuntu focal InRelease\n",
            "Hit:11 http://ppa.launchpad.net/deadsnakes/ppa/ubuntu focal InRelease\n",
            "Hit:12 http://ppa.launchpad.net/graphics-drivers/ppa/ubuntu focal InRelease\n",
            "Get:13 http://archive.ubuntu.com/ubuntu focal-backports InRelease [108 kB]\n",
            "Hit:14 http://ppa.launchpad.net/ubuntugis/ppa/ubuntu focal InRelease\n",
            "Fetched 336 kB in 2s (154 kB/s)\n",
            "Reading package lists... Done\n",
            "Reading package lists... Done\n",
            "Building dependency tree       \n",
            "Reading state information... Done\n",
            "firefox-geckodriver is already the newest version (110.0+build3-0ubuntu0.20.04.1).\n",
            "The following package was automatically installed and is no longer required:\n",
            "  libnvidia-common-510\n",
            "Use 'apt autoremove' to remove it.\n",
            "0 upgraded, 0 newly installed, 0 to remove and 21 not upgraded.\n"
          ]
        }
      ]
    },
    {
      "cell_type": "code",
      "source": [
        "import pdb; "
      ],
      "metadata": {
        "id": "NvI3MWE7q8c-"
      },
      "execution_count": 36,
      "outputs": []
    },
    {
      "cell_type": "code",
      "execution_count": 48,
      "metadata": {
        "colab": {
          "base_uri": "https://localhost:8080/",
          "height": 1000
        },
        "id": "tmLru67YXQp9",
        "outputId": "befc4e5c-4730-4273-8885-222f87d9e52b"
      },
      "outputs": [
        {
          "output_type": "stream",
          "name": "stderr",
          "text": [
            "<ipython-input-48-6f7d9a524ab9>:7: DeprecationWarning: executable_path has been deprecated, please pass in a Service object\n",
            "  driver = webdriver.Firefox(options=options, executable_path='/usr/bin/geckodriver')\n"
          ]
        },
        {
          "output_type": "display_data",
          "data": {
            "text/plain": [
              "<Figure size 864x576 with 1 Axes>"
            ],
            "image/png": "[encoded data removed]"
          },
          "metadata": {
            "needs_background": "light"
          }
        },
        {
          "output_type": "stream",
          "name": "stdout",
          "text": [
            "0 (117, 64, 948)\n",
            "1 (218, 128, 2280)\n",
            "2 (119, 64, 996)\n",
            "3 (74, 32, 456)\n",
            "4 (253, 256, 2884)\n",
            "5 (297, 128, 3300)\n",
            "6 (66, 32, 388)\n",
            "7 (108, 64, 848)\n",
            "8 (118, 128, 1068)\n",
            "9 (141, 128, 1356)\n",
            "10 (102, 64, 788)\n",
            "11 (166, 128, 1676)\n"
          ]
        },
        {
          "output_type": "error",
          "ename": "AttributeError",
          "evalue": "ignored",
          "traceback": [
            "\u001b[0;31m---------------------------------------------------------------------------\u001b[0m",
            "\u001b[0;31mAttributeError\u001b[0m                            Traceback (most recent call last)",
            "\u001b[0;32m<ipython-input-48-6f7d9a524ab9>\u001b[0m in \u001b[0;36m<module>\u001b[0;34m\u001b[0m\n\u001b[1;32m     17\u001b[0m     \u001b[0;31m# pdb.set_trace()\u001b[0m\u001b[0;34m\u001b[0m\u001b[0;34m\u001b[0m\u001b[0;34m\u001b[0m\u001b[0m\n\u001b[1;32m     18\u001b[0m     \u001b[0mtime\u001b[0m\u001b[0;34m.\u001b[0m\u001b[0msleep\u001b[0m\u001b[0;34m(\u001b[0m\u001b[0;36m2\u001b[0m\u001b[0;34m)\u001b[0m\u001b[0;34m\u001b[0m\u001b[0;34m\u001b[0m\u001b[0m\n\u001b[0;32m---> 19\u001b[0;31m     \u001b[0mresult\u001b[0m \u001b[0;34m=\u001b[0m \u001b[0mgen_sample_and_learn\u001b[0m\u001b[0;34m(\u001b[0m\u001b[0mdriver\u001b[0m\u001b[0;34m,\u001b[0m \u001b[0;32mTrue\u001b[0m\u001b[0;34m)\u001b[0m\u001b[0;34m\u001b[0m\u001b[0;34m\u001b[0m\u001b[0m\n\u001b[0m\u001b[1;32m     20\u001b[0m     \u001b[0mprint\u001b[0m\u001b[0;34m(\u001b[0m\u001b[0mj\u001b[0m\u001b[0;34m,\u001b[0m \u001b[0mresult\u001b[0m\u001b[0;34m)\u001b[0m\u001b[0;34m\u001b[0m\u001b[0;34m\u001b[0m\u001b[0m\n\u001b[1;32m     21\u001b[0m     \u001b[0mresults\u001b[0m\u001b[0;34m.\u001b[0m\u001b[0mappend\u001b[0m\u001b[0;34m(\u001b[0m\u001b[0mresult\u001b[0m\u001b[0;34m)\u001b[0m\u001b[0;34m\u001b[0m\u001b[0;34m\u001b[0m\u001b[0m\n",
            "\u001b[0;32m<ipython-input-47-a7b3154abad4>\u001b[0m in \u001b[0;36mgen_sample_and_learn\u001b[0;34m(driver, use_webdriver)\u001b[0m\n\u001b[1;32m    100\u001b[0m             \u001b[0;32mbreak\u001b[0m\u001b[0;34m\u001b[0m\u001b[0;34m\u001b[0m\u001b[0m\n\u001b[1;32m    101\u001b[0m         \u001b[0mplt\u001b[0m\u001b[0;34m.\u001b[0m\u001b[0mpause\u001b[0m\u001b[0;34m(\u001b[0m\u001b[0;36m0.05\u001b[0m\u001b[0;34m)\u001b[0m\u001b[0;34m\u001b[0m\u001b[0;34m\u001b[0m\u001b[0m\n\u001b[0;32m--> 102\u001b[0;31m     \u001b[0;32mreturn\u001b[0m \u001b[0mgame_len\u001b[0m\u001b[0;34m,\u001b[0m \u001b[0mgrid_array\u001b[0m\u001b[0;34m.\u001b[0m\u001b[0mmax\u001b[0m\u001b[0;34m(\u001b[0m\u001b[0;34m)\u001b[0m\u001b[0;34m,\u001b[0m \u001b[0mgame_score\u001b[0m\u001b[0;34m\u001b[0m\u001b[0;34m\u001b[0m\u001b[0m\n\u001b[0m",
            "\u001b[0;31mAttributeError\u001b[0m: 'NoneType' object has no attribute 'max'"
          ]
        }
      ],
      "source": [
        "results = []\n",
        "# driver = webdriver.Firefox(executable_path='./geckodriver')\n",
        "options = webdriver.FirefoxOptions()\n",
        "options.add_argument('--headless')  # to run the browser in headless mode\n",
        "options.binary_location = '/usr/bin/firefox'\n",
        "\n",
        "driver = webdriver.Firefox(options=options, executable_path='/usr/bin/geckodriver')\n",
        "# driver = None\n",
        "graph = plt.plot([], [], 'b')[0]\n",
        "dots256 = plt.plot([],[], 'ro')[0]\n",
        "dots512 = plt.plot([],[], 'yo')[0]\n",
        "dots1024 = plt.plot([],[], 'go')[0]\n",
        "plt.xlim((0,100))\n",
        "plt.ylim((0,25000))\n",
        "for j in range(200):\n",
        "    driver.get(\"https://gabrielecirulli.github.io/2048/\")\n",
        "    # pdb.set_trace()\n",
        "    time.sleep(2)\n",
        "    result = gen_sample_and_learn(driver, True)\n",
        "    print(j, result)\n",
        "    results.append(result)\n",
        "    if (j % 25) == 0 and j != 0:\n",
        "      graph.set_data(np.arange(len(results)), np.array(results)[:, 2])\n",
        "      dots_data =[[],[],[]]\n",
        "      for i, d in enumerate(results):\n",
        "          c = 0 if d[1]<=256 else (1 if d[1]==512 else 2)\n",
        "          dots_data[c].append([i, d[2]])\n",
        "      dots_graph = [dots256, dots512, dots1024]\n",
        "      for i in range(3):\n",
        "          if dots_data[i]:\n",
        "              xy = np.array(dots_data[i])\n",
        "              dots_graph[i].set_data(xy[:, 0], xy[:,1])\n",
        "      plt.title(\"Game #%d\"%j, fontsize=64)\n",
        "      plt.draw()\n",
        "      plt.pause(3)\n",
        "    if result[1] >= 2048:\n",
        "        break"
      ]
    },
    {
      "cell_type": "markdown",
      "source": [
        "With CPU:\n",
        "- 5m - 3 games\n",
        "\n",
        "With GPU:\n",
        "- 30s per game, if even"
      ],
      "metadata": {
        "id": "TCPGMm0pah85"
      }
    },
    {
      "cell_type": "code",
      "source": [],
      "metadata": {
        "id": "cwrb0tIOdNvk"
      },
      "execution_count": null,
      "outputs": []
    }
  ],
  "metadata": {
    "kernelspec": {
      "display_name": "Python 3.9.15 ('2048')",
      "language": "python",
      "name": "python3"
    },
    "language_info": {
      "codemirror_mode": {
        "name": "ipython",
        "version": 3
      },
      "file_extension": ".py",
      "mimetype": "text/x-python",
      "name": "python",
      "nbconvert_exporter": "python",
      "pygments_lexer": "ipython3",
      "version": "3.9.15"
    },
    "orig_nbformat": 4,
    "vscode": {
      "interpreter": {
        "hash": "2f65944d21d5f5bd067ab678ef3438c0814d3eb8e2c6637b3a7e86903e838434"
      }
    },
    "colab": {
      "provenance": [],
      "include_colab_link": true
    },
    "accelerator": "GPU",
    "gpuClass": "standard"
  },
  "nbformat": 4,
  "nbformat_minor": 0
}