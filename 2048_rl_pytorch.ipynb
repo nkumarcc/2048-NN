{
  "cells": [
    {
      "cell_type": "markdown",
      "metadata": {
        "id": "view-in-github",
        "colab_type": "text"
      },
      "source": [
        "<a href=\"https://colab.research.google.com/github/nkumarcc/2048-NN/blob/master/2048_rl_pytorch.ipynb\" target=\"_parent\"><img src=\"https://colab.research.google.com/assets/colab-badge.svg\" alt=\"Open In Colab\"/></a>"
      ]
    },
    {
      "cell_type": "markdown",
      "metadata": {
        "id": "1eG48QBgXQp3"
      },
      "source": [
        "### Imports"
      ]
    },
    {
      "cell_type": "code",
      "source": [
        "!pip install selenium"
      ],
      "metadata": {
        "colab": {
          "base_uri": "https://localhost:8080/"
        },
        "id": "abeavLszXrIo",
        "outputId": "c32555f1-473a-413f-c256-c77f78cd29a3"
      },
      "execution_count": 1,
      "outputs": [
        {
          "output_type": "stream",
          "name": "stdout",
          "text": [
            "Looking in indexes: https://pypi.org/simple, https://us-python.pkg.dev/colab-wheels/public/simple/\n",
            "Requirement already satisfied: selenium in /usr/local/lib/python3.8/dist-packages (4.8.2)\n",
            "Requirement already satisfied: urllib3[socks]~=1.26 in /usr/local/lib/python3.8/dist-packages (from selenium) (1.26.14)\n",
            "Requirement already satisfied: trio-websocket~=0.9 in /usr/local/lib/python3.8/dist-packages (from selenium) (0.9.2)\n",
            "Requirement already satisfied: trio~=0.17 in /usr/local/lib/python3.8/dist-packages (from selenium) (0.22.0)\n",
            "Requirement already satisfied: certifi>=2021.10.8 in /usr/local/lib/python3.8/dist-packages (from selenium) (2022.12.7)\n",
            "Requirement already satisfied: attrs>=19.2.0 in /usr/local/lib/python3.8/dist-packages (from trio~=0.17->selenium) (22.2.0)\n",
            "Requirement already satisfied: sniffio in /usr/local/lib/python3.8/dist-packages (from trio~=0.17->selenium) (1.3.0)\n",
            "Requirement already satisfied: idna in /usr/local/lib/python3.8/dist-packages (from trio~=0.17->selenium) (2.10)\n",
            "Requirement already satisfied: exceptiongroup>=1.0.0rc9 in /usr/local/lib/python3.8/dist-packages (from trio~=0.17->selenium) (1.1.0)\n",
            "Requirement already satisfied: async-generator>=1.9 in /usr/local/lib/python3.8/dist-packages (from trio~=0.17->selenium) (1.10)\n",
            "Requirement already satisfied: outcome in /usr/local/lib/python3.8/dist-packages (from trio~=0.17->selenium) (1.2.0)\n",
            "Requirement already satisfied: sortedcontainers in /usr/local/lib/python3.8/dist-packages (from trio~=0.17->selenium) (2.4.0)\n",
            "Requirement already satisfied: wsproto>=0.14 in /usr/local/lib/python3.8/dist-packages (from trio-websocket~=0.9->selenium) (1.2.0)\n",
            "Requirement already satisfied: PySocks!=1.5.7,<2.0,>=1.5.6 in /usr/local/lib/python3.8/dist-packages (from urllib3[socks]~=1.26->selenium) (1.7.1)\n",
            "Requirement already satisfied: h11<1,>=0.9.0 in /usr/local/lib/python3.8/dist-packages (from wsproto>=0.14->trio-websocket~=0.9->selenium) (0.14.0)\n"
          ]
        }
      ]
    },
    {
      "cell_type": "code",
      "execution_count": 2,
      "metadata": {
        "id": "i0nL0gU4XQp4"
      },
      "outputs": [],
      "source": [
        "from random import randint, shuffle, seed\n",
        "import sys\n",
        "from selenium import webdriver\n",
        "from selenium.webdriver.common.keys import Keys"
      ]
    },
    {
      "cell_type": "code",
      "execution_count": 3,
      "metadata": {
        "id": "xgu72JbyXQp5"
      },
      "outputs": [],
      "source": [
        "from IPython.display import clear_output"
      ]
    },
    {
      "cell_type": "code",
      "source": [
        "!wget https://raw.githubusercontent.com/nkumarcc/2048-NN/master/c2048.py"
      ],
      "metadata": {
        "colab": {
          "base_uri": "https://localhost:8080/"
        },
        "id": "cWWgYLFMYOcy",
        "outputId": "d8c25686-598c-4d1b-c7bd-04fd892d6cf1"
      },
      "execution_count": 4,
      "outputs": [
        {
          "output_type": "stream",
          "name": "stdout",
          "text": [
            "--2023-02-25 03:42:13--  https://raw.githubusercontent.com/nkumarcc/2048-NN/master/c2048.py\n",
            "Resolving raw.githubusercontent.com (raw.githubusercontent.com)... 185.199.109.133, 185.199.110.133, 185.199.111.133, ...\n",
            "Connecting to raw.githubusercontent.com (raw.githubusercontent.com)|185.199.109.133|:443... connected.\n",
            "HTTP request sent, awaiting response... 200 OK\n",
            "Length: 5949 (5.8K) [text/plain]\n",
            "Saving to: ‘c2048.py.1’\n",
            "\n",
            "c2048.py.1          100%[===================>]   5.81K  --.-KB/s    in 0s      \n",
            "\n",
            "2023-02-25 03:42:13 (70.9 MB/s) - ‘c2048.py.1’ saved [5949/5949]\n",
            "\n"
          ]
        }
      ]
    },
    {
      "cell_type": "code",
      "execution_count": 5,
      "metadata": {
        "id": "6jrt0tAcXQp5"
      },
      "outputs": [],
      "source": [
        "from c2048 import Game, push"
      ]
    },
    {
      "cell_type": "code",
      "execution_count": 6,
      "metadata": {
        "id": "Dcx46os_XQp5"
      },
      "outputs": [],
      "source": [
        "import numpy as np"
      ]
    },
    {
      "cell_type": "markdown",
      "metadata": {
        "id": "w_7G2lKjXQp6"
      },
      "source": [
        "### New PyTorch NN"
      ]
    },
    {
      "cell_type": "code",
      "source": [
        "import torch\n",
        "\n",
        "device = torch.device(\"cuda\" if torch.cuda.is_available() else \"cpu\")\n",
        "\n",
        "print(device)"
      ],
      "metadata": {
        "colab": {
          "base_uri": "https://localhost:8080/"
        },
        "id": "PxZV3cvubQDr",
        "outputId": "0f38bc43-3175-41bd-83c1-6b5b4b65c8b4"
      },
      "execution_count": 7,
      "outputs": [
        {
          "output_type": "stream",
          "name": "stdout",
          "text": [
            "cuda\n"
          ]
        }
      ]
    },
    {
      "cell_type": "code",
      "execution_count": 57,
      "metadata": {
        "id": "MMHEemUgXQp6"
      },
      "outputs": [],
      "source": [
        "import torch\n",
        "import torch.nn as nn\n",
        "\n",
        "N_FILTERS = 512\n",
        "N_FILTERS_2 = 4096\n",
        "NUM_OPTIONS = 16\n",
        "\n",
        "class PlayerNet(nn.Module):\n",
        "    def __init__(self):\n",
        "        super(PlayerNet, self).__init__()\n",
        "\n",
        "        # Input size: (None, 16, 4, 4)\n",
        "        # (Num samples, hot encoding of value, height, width)\n",
        "\n",
        "        # 2D convolutional layers\n",
        "        # Input size: (None, 16, 4, 4)\n",
        "        self.conv_a = nn.Conv2d(in_channels=NUM_OPTIONS, out_channels=N_FILTERS, kernel_size=(2, 1), padding='valid')\n",
        "        # (None, N_FILTERS, 3, 4)\n",
        "        self.conv_b = nn.Conv2d(in_channels=NUM_OPTIONS, out_channels=N_FILTERS, kernel_size=(1, 2), padding='valid')\n",
        "        # (None, N_FILTERS, 4, 3)\n",
        "\n",
        "        self.conv_aa = nn.Conv2d(in_channels=N_FILTERS, out_channels=N_FILTERS_2, kernel_size=(2, 1), padding='valid')\n",
        "        # (None, N_FILTERS_2, 2, 4)\n",
        "        self.conv_ab = nn.Conv2d(in_channels=N_FILTERS, out_channels=N_FILTERS_2, kernel_size=(1, 2), padding='valid')\n",
        "        # (None, N_FILTERS_2, 3, 3)\n",
        "\n",
        "        self.conv_ba = nn.Conv2d(in_channels=N_FILTERS, out_channels=N_FILTERS_2, kernel_size=(2, 1), padding='valid')\n",
        "        # (None, N_FILTERS_2, 3, 3)\n",
        "        self.conv_bb = nn.Conv2d(in_channels=N_FILTERS, out_channels=N_FILTERS_2, kernel_size=(1, 2), padding='valid')\n",
        "        # (None, N_FILTERS_2, 4, 2)\n",
        "\n",
        "        # flatten the output of each convolutional layer\n",
        "        # Output sizes will be:\n",
        "        # - (Num Samples, N_FILTERS * 3 * 4) x 2\n",
        "        # - (Num Samples, N_FILTERS_2 * 3 * 3) x 2\n",
        "        # - (Num Samples, N_FILTERS_2 * 2 * 4) x 2\n",
        "        self.flatten = nn.Flatten()\n",
        "\n",
        "        # concatenation layer\n",
        "        # Not sure this is the right axis\n",
        "        # Output size will be:\n",
        "        # (Num Samples, N_FILTERS * 24 + N_FILTERS_2 * 34)\n",
        "\n",
        "        # dense layer\n",
        "        self.fc = nn.Linear(\n",
        "            in_features=N_FILTERS * 24 + N_FILTERS_2 * 34,\n",
        "            out_features=1\n",
        "        )\n",
        "        self.fc.activation = nn.Identity()\n",
        "\n",
        "        # Error is scaled MSE\n",
        "        self.loss_fn = nn.MSELoss()\n",
        "        self.loss_scale = torch.tensor([0.5]).to(device)\n",
        "\n",
        "        # Adam optimizer\n",
        "        self.optimizer = torch.optim.Adam(self.parameters())\n",
        "        # , betas=(0.5, 0.999)\n",
        "\n",
        "    def forward(self, x):\n",
        "        # pdb.set_trace()\n",
        "        conv_a = self.conv_a(x)\n",
        "        conv_b = self.conv_b(x)\n",
        "\n",
        "        conv_aa = self.conv_aa(conv_a)\n",
        "        conv_ab = self.conv_ab(conv_a)\n",
        "\n",
        "        conv_bb = self.conv_bb(conv_b)\n",
        "        conv_ba = self.conv_ba(conv_b)\n",
        "\n",
        "        # flatten the output of the convolutional layer\n",
        "        flattened_convs = [\n",
        "            self.flatten(z) for z in [conv_a, conv_b, conv_aa, conv_ab, conv_bb, conv_ba]\n",
        "        ]\n",
        "\n",
        "        concatenated = torch.cat(flattened_convs, axis=1)\n",
        "        final_out = self.fc(concatenated)\n",
        "\n",
        "        return final_out\n",
        "\n",
        "    def train_step(self, x, y):\n",
        "        # Forward pass\n",
        "        y_pred = self.forward(x)\n",
        "        # Using prediction from the forward pass\n",
        "        # being used to drive the game\n",
        "\n",
        "        # Compute loss\n",
        "        loss = self.loss_fn(y_pred, y)\n",
        "        loss = loss * self.loss_scale\n",
        "\n",
        "        # Backward pass\n",
        "        loss.backward()\n",
        "\n",
        "        # Update parameters\n",
        "        self.optimizer.step()\n",
        "\n",
        "        # Reset gradients\n",
        "        self.optimizer.zero_grad()\n",
        "\n",
        "        return loss"
      ]
    },
    {
      "cell_type": "code",
      "execution_count": 70,
      "metadata": {
        "id": "BHYLrJawXQp7"
      },
      "outputs": [],
      "source": [
        "player_net = PlayerNet().to(device)"
      ]
    },
    {
      "cell_type": "markdown",
      "metadata": {
        "id": "wbzRExdrXQp8"
      },
      "source": [
        "### Driver Functions (copied from original notebook)"
      ]
    },
    {
      "cell_type": "code",
      "execution_count": 10,
      "metadata": {
        "id": "QOiRTNmdXQp8"
      },
      "outputs": [],
      "source": [
        "import numpy as np\n",
        "from random import randint\n",
        "\n",
        "table ={2**i:i for i in range(1,16)}\n",
        "table[0]=0\n",
        "def make_input(grid):\n",
        "    g0 = grid\n",
        "    r = np.zeros(shape=(16, 4, 4), dtype=float)\n",
        "    for i in range(4):\n",
        "        for j in range(4):\n",
        "            v = g0[i, j]\n",
        "            r[table[v],i, j]=1\n",
        "    return r"
      ]
    },
    {
      "cell_type": "code",
      "execution_count": 59,
      "metadata": {
        "id": "IH3ysdVWXQp8"
      },
      "outputs": [],
      "source": [
        "from random import random, randint\n",
        "\n",
        "def get_grid(driver):\n",
        "    grid = np.zeros(shape=(4,4), dtype='uint16')\n",
        "    for x in driver.find_elements(By.CLASS_NAME, 'tile'):\n",
        "        cl = x.get_attribute('class').split()\n",
        "        for t in cl:\n",
        "            if t.startswith('tile-position-'):\n",
        "                pos = int(t[14])-1, int(t[16])-1\n",
        "            elif t.startswith('tile-') and t[5].isdigit():\n",
        "                v = int(t[5:])\n",
        "        grid[pos[1], pos[0]] = v\n",
        "    return grid"
      ]
    },
    {
      "cell_type": "code",
      "execution_count": 60,
      "metadata": {
        "id": "NKiydiYQXQp8"
      },
      "outputs": [],
      "source": [
        "import matplotlib\n",
        "import matplotlib.pyplot as plt\n",
        "matplotlib.rcParams['figure.figsize'] = (12.0, 8.0)"
      ]
    },
    {
      "cell_type": "code",
      "execution_count": 68,
      "metadata": {
        "id": "VAHSFxR1XQp8"
      },
      "outputs": [],
      "source": [
        "import math\n",
        "import time\n",
        "from collections import defaultdict\n",
        "from selenium.webdriver.common.by import By\n",
        "  \n",
        "def Vchange(grid, v):\n",
        "    g0 = grid\n",
        "    g1 = torch.flip(g0, [1])\n",
        "    g2 = torch.flip(g0, [2])\n",
        "    g3 = torch.flip(g2, [1])\n",
        "    r0 = grid.swapaxes(1,2)\n",
        "    r1 = torch.flip(r0, [1])\n",
        "    r2 = torch.flip(r0, [2])\n",
        "    r3 = torch.flip(r2, [1])\n",
        "\n",
        "    try:\n",
        "        x_train = torch.stack([g0,g1,g2,g3,r0,r1,r2,r3], dim=0)\n",
        "        # pdb.set_trace()\n",
        "        y_train = torch.stack([v]*8, dim=0)\n",
        "        # y_pred = torch.cat([prediction]*8, dim=0)\n",
        "    except:\n",
        "        print('Error and great spot for a breakpoint!')\n",
        "        return\n",
        "    return player_net.train_step(x_train, y_train)\n",
        "\n",
        "arrow=[Keys.ARROW_LEFT, Keys.ARROW_UP, Keys.ARROW_RIGHT, Keys.ARROW_DOWN]\n",
        "def gen_sample_and_learn(driver, use_webdriver=False):\n",
        "    game_len = 0\n",
        "    game_score = 0\n",
        "    last_grid = None\n",
        "    grid_array = None\n",
        "    loss_array = []\n",
        "    simulated_game = Game()\n",
        "\n",
        "    body = driver.find_element(By.TAG_NAME, 'body') if use_webdriver else None\n",
        "    keep_playing =False\n",
        "\n",
        "    while True:\n",
        "\n",
        "        if use_webdriver:\n",
        "            try:\n",
        "                grid_array = get_grid(driver)\n",
        "            except:\n",
        "                grid_array = None\n",
        "\n",
        "            try:\n",
        "                game_message = driver.find_element(By.CLASS_NAME, 'game-message')\n",
        "                retry_button = driver.find_element(By.CLASS_NAME, 'retry-button')\n",
        "                if game_message.value_of_css_property('display') != 'none' and \\\n",
        "                    retry_button.value_of_css_property('display') != 'none':\n",
        "                    break\n",
        "            except:\n",
        "                pass\n",
        "        else:\n",
        "            grid_array = simulated_game.grid\n",
        "\n",
        "        board_list = []\n",
        "        # pdb.set_trace()\n",
        "        if grid_array is not None:\n",
        "            if use_webdriver and not keep_playing and grid_array.max()==2048:\n",
        "                driver.find_element(By.CLASS_NAME, 'keep-playing-button').click()\n",
        "                keep_playing = True\n",
        "                time.sleep(1)\n",
        "            for m in range(4):\n",
        "                g = grid_array.copy()\n",
        "                s = push(g, m%4)\n",
        "                if s >= 0:\n",
        "                    board_list.append( (g, m, s) )\n",
        "        if board_list:\n",
        "            boards = torch.tensor(\n",
        "                np.array(\n",
        "                    [make_input(g) for g,m,s in board_list], \n",
        "                    dtype=float\n",
        "                ),\n",
        "                dtype=torch.float32,\n",
        "            ).to(device)\n",
        "\n",
        "            player_net.eval()\n",
        "            with torch.no_grad():\n",
        "              p = player_net(boards)\n",
        "            player_net.train()\n",
        "\n",
        "            game_len+=1\n",
        "            best_move = -1\n",
        "            best_v = None\n",
        "            best_prediction = None\n",
        "            for i, (g,m,s) in enumerate(board_list):\n",
        "                v = 2*s + p[i]\n",
        "                if best_v is None or v > best_v:\n",
        "                    best_v = v\n",
        "                    best_move = m\n",
        "                    best_score = 2*s\n",
        "                    best_prediction = p[i]\n",
        "                    best_grid = boards[i]\n",
        "            if use_webdriver:\n",
        "                body.send_keys(arrow[best_move])\n",
        "            else:\n",
        "                # simulated_game.display()\n",
        "                simulated_game.move(best_move)\n",
        "            # print(f'Best prediction: {best_prediction}')\n",
        "            game_score += best_score\n",
        "        else:\n",
        "            best_v = torch.Tensor([0]).to(device)\n",
        "            best_grid = None\n",
        "        if last_grid is not None:\n",
        "            loss = Vchange(last_grid, best_v)\n",
        "            # print(f'Loss: {loss}')\n",
        "            loss_array.append(loss)\n",
        "        last_grid = best_grid\n",
        "        if not board_list:\n",
        "            break\n",
        "        plt.pause(0.05)\n",
        "    \n",
        "    avg_loss = torch.mean(torch.stack(loss_array))\n",
        "    print(f'Average Loss, {avg_loss}')\n",
        "    return game_len, grid_array.max(), game_score"
      ]
    },
    {
      "cell_type": "code",
      "source": [
        "!apt-get update\n",
        "!apt install firefox-geckodriver"
      ],
      "metadata": {
        "colab": {
          "base_uri": "https://localhost:8080/"
        },
        "id": "vdIE9oLhnP0f",
        "outputId": "1859597e-0e22-42fb-801c-2df83924e32e"
      },
      "execution_count": 14,
      "outputs": [
        {
          "output_type": "stream",
          "name": "stdout",
          "text": [
            "Hit:1 https://cloud.r-project.org/bin/linux/ubuntu focal-cran40/ InRelease\n",
            "Hit:2 http://ppa.launchpad.net/c2d4u.team/c2d4u4.0+/ubuntu focal InRelease\n",
            "Ign:3 https://developer.download.nvidia.com/compute/machine-learning/repos/ubuntu2004/x86_64  InRelease\n",
            "Hit:4 https://developer.download.nvidia.com/compute/cuda/repos/ubuntu2004/x86_64  InRelease\n",
            "Hit:5 https://developer.download.nvidia.com/compute/machine-learning/repos/ubuntu2004/x86_64  Release\n",
            "Get:6 http://security.ubuntu.com/ubuntu focal-security InRelease [114 kB]\n",
            "Hit:7 http://archive.ubuntu.com/ubuntu focal InRelease\n",
            "Hit:8 http://ppa.launchpad.net/cran/libgit2/ubuntu focal InRelease\n",
            "Get:10 http://archive.ubuntu.com/ubuntu focal-updates InRelease [114 kB]\n",
            "Hit:11 http://ppa.launchpad.net/deadsnakes/ppa/ubuntu focal InRelease\n",
            "Hit:12 http://ppa.launchpad.net/graphics-drivers/ppa/ubuntu focal InRelease\n",
            "Get:13 http://archive.ubuntu.com/ubuntu focal-backports InRelease [108 kB]\n",
            "Hit:14 http://ppa.launchpad.net/ubuntugis/ppa/ubuntu focal InRelease\n",
            "Fetched 336 kB in 2s (160 kB/s)\n",
            "Reading package lists... Done\n",
            "Reading package lists... Done\n",
            "Building dependency tree       \n",
            "Reading state information... Done\n",
            "firefox-geckodriver is already the newest version (110.0+build3-0ubuntu0.20.04.1).\n",
            "0 upgraded, 0 newly installed, 0 to remove and 19 not upgraded.\n"
          ]
        }
      ]
    },
    {
      "cell_type": "code",
      "source": [
        "import pdb; "
      ],
      "metadata": {
        "id": "NvI3MWE7q8c-"
      },
      "execution_count": 15,
      "outputs": []
    },
    {
      "cell_type": "code",
      "execution_count": null,
      "metadata": {
        "colab": {
          "base_uri": "https://localhost:8080/",
          "height": 1000
        },
        "id": "tmLru67YXQp9",
        "outputId": "e2381c17-5d3f-4bea-e272-0a73c28232db"
      },
      "outputs": [
        {
          "output_type": "stream",
          "name": "stderr",
          "text": [
            "<ipython-input-71-8a87f7a71d8d>:7: DeprecationWarning: executable_path has been deprecated, please pass in a Service object\n",
            "  driver = webdriver.Firefox(options=options, executable_path='/usr/bin/geckodriver')\n"
          ]
        },
        {
          "output_type": "display_data",
          "data": {
            "text/plain": [
              "<Figure size 864x576 with 1 Axes>"
            ],
            "image/png": "[encoded data removed]"
          },
          "metadata": {
            "needs_background": "light"
          }
        },
        {
          "output_type": "stream",
          "name": "stdout",
          "text": [
            "Average Loss, 58220.47265625\n",
            "0 (98, 64, 840)\n",
            "Average Loss, 128591.3828125\n",
            "1 (276, 256, 3420)\n",
            "Average Loss, 28209.732421875\n",
            "2 (220, 256, 2600)\n",
            "Average Loss, 13198.7763671875\n",
            "3 (169, 128, 1792)\n",
            "Average Loss, 8112.4345703125\n",
            "4 (149, 128, 1428)\n",
            "Average Loss, 7197.66943359375\n",
            "5 (142, 128, 1360)\n",
            "Average Loss, 6344.3369140625\n",
            "6 (227, 256, 2648)\n",
            "Average Loss, 5086.0712890625\n",
            "7 (139, 128, 1288)\n",
            "Average Loss, 6465.34521484375\n",
            "8 (280, 256, 3492)\n",
            "Average Loss, 6297.62646484375\n",
            "9 (122, 64, 1104)\n",
            "Average Loss, 5696.23388671875\n",
            "10 (183, 256, 2152)\n",
            "Average Loss, 4137.97216796875\n",
            "11 (169, 128, 1648)\n",
            "Average Loss, 10427.2001953125\n",
            "12 (371, 512, 5384)\n",
            "Average Loss, 4680.25244140625\n",
            "13 (138, 64, 1220)\n",
            "Average Loss, 4391.171875\n",
            "14 (147, 128, 1476)\n",
            "Average Loss, 2715.69970703125\n",
            "15 (134, 64, 1144)\n",
            "Average Loss, 4342.68505859375\n",
            "16 (180, 256, 2168)\n",
            "Average Loss, 3592.473876953125\n",
            "17 (164, 128, 1624)\n",
            "Average Loss, 3796.25244140625\n",
            "18 (266, 256, 3172)\n",
            "Average Loss, 3167.2568359375\n",
            "19 (152, 128, 1460)\n",
            "Average Loss, 4612.4140625\n",
            "20 (248, 256, 2940)\n",
            "Average Loss, 2302.4091796875\n",
            "21 (75, 64, 512)\n",
            "Average Loss, 1552.5133056640625\n",
            "22 (114, 64, 940)\n",
            "Average Loss, 2599.294921875\n",
            "23 (197, 128, 2128)\n",
            "Average Loss, 7948.5029296875\n",
            "24 (362, 512, 5192)\n",
            "Average Loss, 2515.017333984375\n",
            "25 (155, 128, 1524)\n",
            "Average Loss, 1760.3541259765625\n",
            "26 (136, 64, 1156)\n",
            "Average Loss, 2496.239013671875\n",
            "27 (192, 128, 2060)\n",
            "Average Loss, 6529.21484375\n",
            "28 (281, 256, 3520)\n",
            "Average Loss, 9410.671875\n",
            "29 (274, 256, 3328)\n",
            "Average Loss, 5961.4248046875\n",
            "30 (236, 256, 2860)\n",
            "Average Loss, 1561.5140380859375\n",
            "31 (81, 64, 572)\n",
            "Average Loss, 2268.9384765625\n",
            "32 (214, 256, 2488)\n",
            "Average Loss, 2574.882568359375\n",
            "33 (139, 128, 1336)\n",
            "Average Loss, 1891.8948974609375\n",
            "34 (152, 128, 1460)\n",
            "Average Loss, 2783.93798828125\n",
            "35 (153, 128, 1556)\n",
            "Average Loss, 5065.501953125\n",
            "36 (263, 256, 3144)\n",
            "Average Loss, 13501.8212890625\n",
            "37 (231, 256, 2852)\n",
            "Average Loss, 3109.322998046875\n",
            "38 (139, 128, 1332)\n",
            "Average Loss, 1288.397705078125\n",
            "39 (123, 128, 1156)\n",
            "Average Loss, 3577.353759765625\n",
            "40 (245, 256, 2912)\n",
            "Average Loss, 1659.4375\n",
            "41 (124, 128, 1144)\n",
            "Average Loss, 1400.1043701171875\n",
            "42 (138, 128, 1308)\n",
            "Average Loss, 2075.114990234375\n",
            "43 (144, 128, 1376)\n",
            "Average Loss, 4030.6357421875\n",
            "44 (190, 256, 2292)\n",
            "Average Loss, 2254.039306640625\n",
            "45 (137, 128, 1324)\n",
            "Average Loss, 1198.7100830078125\n",
            "46 (89, 64, 656)\n",
            "Average Loss, 1201.27490234375\n",
            "47 (150, 128, 1412)\n",
            "Average Loss, 1287.6658935546875\n",
            "48 (109, 64, 924)\n",
            "Average Loss, 1318.23583984375\n",
            "49 (159, 128, 1500)\n",
            "Average Loss, 1533.7567138671875\n",
            "50 (165, 128, 1572)\n",
            "Average Loss, 783.7008666992188\n",
            "51 (94, 64, 676)\n",
            "Average Loss, 821.6670532226562\n",
            "52 (90, 64, 668)\n"
          ]
        }
      ],
      "source": [
        "results = []\n",
        "# driver = webdriver.Firefox(executable_path='./geckodriver')\n",
        "options = webdriver.FirefoxOptions()\n",
        "options.add_argument('--headless')  # to run the browser in headless mode\n",
        "options.binary_location = '/usr/bin/firefox'\n",
        "\n",
        "driver = webdriver.Firefox(options=options, executable_path='/usr/bin/geckodriver')\n",
        "# driver = None\n",
        "graph = plt.plot([], [], 'b')[0]\n",
        "dots256 = plt.plot([],[], 'ro')[0]\n",
        "dots512 = plt.plot([],[], 'yo')[0]\n",
        "dots1024 = plt.plot([],[], 'go')[0]\n",
        "plt.xlim((0,100))\n",
        "plt.ylim((0,25000))\n",
        "for j in range(2000):\n",
        "    # driver.get(\"https://gabrielecirulli.github.io/2048/\")\n",
        "    # pdb.set_trace()\n",
        "    time.sleep(2)\n",
        "    result = gen_sample_and_learn(driver)\n",
        "    print(j, result)\n",
        "    results.append(result)\n",
        "    if (j % 250) == 0 and j != 0:\n",
        "      graph.set_data(np.arange(len(results)), np.array(results)[:, 2])\n",
        "      dots_data =[[],[],[]]\n",
        "      for i, d in enumerate(results):\n",
        "          c = 0 if d[1]<=256 else (1 if d[1]==512 else 2)\n",
        "          dots_data[c].append([i, d[2]])\n",
        "      dots_graph = [dots256, dots512, dots1024]\n",
        "      for i in range(3):\n",
        "          if dots_data[i]:\n",
        "              xy = np.array(dots_data[i])\n",
        "              dots_graph[i].set_data(xy[:, 0], xy[:,1])\n",
        "      plt.title(\"Game #%d\"%j, fontsize=64)\n",
        "      plt.draw()\n",
        "      plt.pause(3)\n",
        "    if result[1] >= 2048:\n",
        "        break"
      ]
    },
    {
      "cell_type": "markdown",
      "source": [
        "Both of these are with simulator. Using Selenium, we're looking at 1 min 30s per game\n",
        "\n",
        "With CPU:\n",
        "- 5m - 3 games\n",
        "\n",
        "With GPU:\n",
        "- 30s per game, if even"
      ],
      "metadata": {
        "id": "TCPGMm0pah85"
      }
    },
    {
      "cell_type": "code",
      "source": [
        "\n"
      ],
      "metadata": {
        "id": "cwrb0tIOdNvk"
      },
      "execution_count": null,
      "outputs": []
    }
  ],
  "metadata": {
    "kernelspec": {
      "display_name": "Python 3.9.15 ('2048')",
      "language": "python",
      "name": "python3"
    },
    "language_info": {
      "codemirror_mode": {
        "name": "ipython",
        "version": 3
      },
      "file_extension": ".py",
      "mimetype": "text/x-python",
      "name": "python",
      "nbconvert_exporter": "python",
      "pygments_lexer": "ipython3",
      "version": "3.9.15"
    },
    "orig_nbformat": 4,
    "vscode": {
      "interpreter": {
        "hash": "2f65944d21d5f5bd067ab678ef3438c0814d3eb8e2c6637b3a7e86903e838434"
      }
    },
    "colab": {
      "provenance": [],
      "include_colab_link": true
    },
    "accelerator": "GPU",
    "gpuClass": "standard"
  },
  "nbformat": 4,
  "nbformat_minor": 0
}